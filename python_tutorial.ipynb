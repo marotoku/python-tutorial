{
 "cells": [
  {
   "cell_type": "markdown",
   "metadata": {},
   "source": [
    "# データサイエンス100本ノックを始める前に --Python基礎--\n",
    "\n",
    "## データサイエンス100本ノックを始める前に、最低限把握しておくべきPythonの基礎を身に着ける。"
   ]
  },
  {
   "cell_type": "markdown",
   "metadata": {},
   "source": [
    "### Jupyter Notebookの使い方\n",
    "セルに実行したい文を入力して、Ctrl+Enterで実行する。\n",
    "実行した結果（1セルに複数の文があるときは最後の結果）がすぐ下に表示される。"
   ]
  },
  {
   "cell_type": "code",
   "execution_count": null,
   "metadata": {},
   "outputs": [],
   "source": [
    "'Hello, World'"
   ]
  },
  {
   "cell_type": "code",
   "execution_count": null,
   "metadata": {},
   "outputs": [],
   "source": [
    "'Hello, World'\n",
    "'Hello, Python'"
   ]
  },
  {
   "cell_type": "markdown",
   "metadata": {},
   "source": [
    "### 標準出力に表示\n",
    "コンソールに出力する際は`print()`関数を使う。"
   ]
  },
  {
   "cell_type": "code",
   "execution_count": null,
   "metadata": {},
   "outputs": [],
   "source": [
    "print('Hello, World')"
   ]
  },
  {
   "cell_type": "markdown",
   "metadata": {},
   "source": [
    "### Pythonの代表的なデータ型\n",
    "* 数値（整数、浮動小数点数）\n",
    "* 文字列\n",
    "* リスト\n",
    "* タプル\n",
    "* 辞書（連想配列）"
   ]
  },
  {
   "cell_type": "markdown",
   "metadata": {},
   "source": [
    "#### 数値\n",
    "数値と式は素直な方。"
   ]
  },
  {
   "cell_type": "code",
   "execution_count": null,
   "metadata": {},
   "outputs": [],
   "source": [
    "2 + 2"
   ]
  },
  {
   "cell_type": "code",
   "execution_count": null,
   "metadata": {},
   "outputs": [],
   "source": [
    "50 - 5 * 6"
   ]
  },
  {
   "cell_type": "code",
   "execution_count": null,
   "metadata": {},
   "outputs": [],
   "source": [
    "# 乗算・除算が加算・減算より優先される\n",
    "50 - 5 * 6 / 4"
   ]
  },
  {
   "cell_type": "code",
   "execution_count": null,
   "metadata": {},
   "outputs": [],
   "source": [
    "# カッコでくくって演算の優先順位を変更する\n",
    "(50 - 5 * 6) / 4"
   ]
  },
  {
   "cell_type": "code",
   "execution_count": null,
   "metadata": {},
   "outputs": [],
   "source": [
    "# 除算の結果、浮動小数点数が返ってくることに注意\n",
    "17 / 3"
   ]
  },
  {
   "cell_type": "code",
   "execution_count": null,
   "metadata": {},
   "outputs": [],
   "source": [
    "# 除算の商（整数部）\n",
    "17 // 3"
   ]
  },
  {
   "cell_type": "code",
   "execution_count": null,
   "metadata": {},
   "outputs": [],
   "source": [
    "# 剰余\n",
    "17 % 3"
   ]
  },
  {
   "cell_type": "code",
   "execution_count": null,
   "metadata": {},
   "outputs": [],
   "source": [
    "# 整数と浮動小数点数が混在する場合、整数は浮動小数点数に変換される\n",
    "4 * 3.75 - 1"
   ]
  },
  {
   "cell_type": "code",
   "execution_count": null,
   "metadata": {},
   "outputs": [],
   "source": [
    "# べき乗\n",
    "5 ** 2"
   ]
  },
  {
   "cell_type": "markdown",
   "metadata": {},
   "source": [
    "#### 文字列\n",
    "「'」か「\"」でくくる。どちらでも意味は違いないので好きな方を使うと良い。\n",
    "ただし、プログラムの中でどちらを使うか統一しておいたほうが良い。"
   ]
  },
  {
   "cell_type": "code",
   "execution_count": null,
   "metadata": {},
   "outputs": [],
   "source": [
    "'Hello, World'"
   ]
  },
  {
   "cell_type": "code",
   "execution_count": null,
   "metadata": {},
   "outputs": [],
   "source": [
    "'日本語も使えます'"
   ]
  },
  {
   "cell_type": "code",
   "execution_count": null,
   "metadata": {},
   "outputs": [],
   "source": [
    "print('\"ダブルクォートを文字として使う場合\"')"
   ]
  },
  {
   "cell_type": "code",
   "execution_count": null,
   "metadata": {},
   "outputs": [],
   "source": [
    "print(\"'逆にシングルクォートを文字として使う'\")"
   ]
  },
  {
   "cell_type": "code",
   "execution_count": null,
   "metadata": {},
   "outputs": [],
   "source": [
    "# 改行を含む文字列は「\"\"\"」で囲う\n",
    "\"\"\"終わりは近い。\n",
    "ドアのところで音が聞こえる。\n",
    "何かぬめぬめした巨体が、ドアにぶつかっているような音だ。\n",
    "見つかりはすまい。\n",
    "神よ、あの手が！窓に！窓に！\n",
    "\"\"\""
   ]
  },
  {
   "cell_type": "markdown",
   "metadata": {},
   "source": [
    "#### 文字列の連結・反復\n",
    "「+」で連結、「*」で反復"
   ]
  },
  {
   "cell_type": "code",
   "execution_count": null,
   "metadata": {},
   "outputs": [],
   "source": [
    "'Hello' + 'World'"
   ]
  },
  {
   "cell_type": "code",
   "execution_count": null,
   "metadata": {},
   "outputs": [],
   "source": [
    "# 連続して並んでいる複数の文字列リテラル（「'」でくくられたやつ）は自動的に連結される\n",
    "'Hello''World'"
   ]
  },
  {
   "cell_type": "code",
   "execution_count": null,
   "metadata": {},
   "outputs": [],
   "source": [
    "'Hello' * 3"
   ]
  },
  {
   "cell_type": "markdown",
   "metadata": {},
   "source": [
    "#### 接頭辞\n",
    "文字列の先頭（クォーテーションの前）に特定の記号を付与して、特別な意味を付与することができる。\n",
    "* r: 生文字列。「\\」を直接書ける。正規表現やWindowsのフォルダ名を表現する際などよく使う。\n",
    "* f: フォーマット済み文字列（f-string）。Python3.6以降にて利用可能。めちゃ便利。\n",
    "* b: バイト列。あまり使わない。システムプログラミング系では使う場面もあるかも。"
   ]
  },
  {
   "cell_type": "code",
   "execution_count": null,
   "metadata": {},
   "outputs": [],
   "source": [
    "r'C:\\Users\\tokumaru\\Documents\\himitu'"
   ]
  },
  {
   "cell_type": "code",
   "execution_count": null,
   "metadata": {},
   "outputs": [],
   "source": [
    "r'^\\d.+'"
   ]
  },
  {
   "cell_type": "code",
   "execution_count": null,
   "metadata": {},
   "outputs": [],
   "source": [
    "name = 'tokumaru'\n",
    "f'Hello, {name}'"
   ]
  },
  {
   "cell_type": "markdown",
   "metadata": {},
   "source": [
    "### リスト\n",
    "複数のデータを[]で囲んでひとまとめにしたもの。配列っぽいものと思っておけばひとまずOK。\n",
    "同じ型の要素をひとまとめにするときに使う。\n",
    "まあ別の型の要素を混ぜても怒られないけど…"
   ]
  },
  {
   "cell_type": "code",
   "execution_count": null,
   "metadata": {},
   "outputs": [],
   "source": [
    "l = [1, 2, 3, 4, 5, 6, 7]"
   ]
  },
  {
   "cell_type": "code",
   "execution_count": null,
   "metadata": {},
   "outputs": [],
   "source": [
    "l"
   ]
  },
  {
   "cell_type": "markdown",
   "metadata": {},
   "source": [
    "#### リストのスライス\n",
    "リストの要素を指定して抽出する。0はじまりであること注意。\n",
    "```Python\n",
    "[ 開始位置 : 終了位置 : 増分]\n",
    "```\n",
    "開始位置：自身は含まれる。\n",
    "\n",
    "終了位置：自身は含まれない。省略可能。指定しなかったら最後まで。\n",
    "\n",
    "増分：何個おきに拾うか。省略可能。"
   ]
  },
  {
   "cell_type": "code",
   "execution_count": null,
   "metadata": {},
   "outputs": [],
   "source": [
    "# 指定の要素を1つだけ抽出する\n",
    "l[0]"
   ]
  },
  {
   "cell_type": "markdown",
   "metadata": {},
   "source": [
    "-1番目の要素は最後の要素。"
   ]
  },
  {
   "cell_type": "code",
   "execution_count": null,
   "metadata": {},
   "outputs": [],
   "source": [
    "l[-1]"
   ]
  },
  {
   "cell_type": "code",
   "execution_count": null,
   "metadata": {},
   "outputs": [],
   "source": [
    "l[1:5:]"
   ]
  },
  {
   "cell_type": "code",
   "execution_count": null,
   "metadata": {},
   "outputs": [],
   "source": [
    "l[::3]"
   ]
  },
  {
   "cell_type": "code",
   "execution_count": null,
   "metadata": {},
   "outputs": [],
   "source": [
    "l[1:5:2]"
   ]
  },
  {
   "cell_type": "markdown",
   "metadata": {},
   "source": [
    "範囲外を指定した場合は空のリストが返る。"
   ]
  },
  {
   "cell_type": "code",
   "execution_count": null,
   "metadata": {},
   "outputs": [],
   "source": [
    "l[100:200:300]"
   ]
  },
  {
   "cell_type": "markdown",
   "metadata": {},
   "source": [
    "#### 連続する数値を生成する\n",
    "```Python\n",
    "range(start, end, step)\n",
    "```\n",
    "start: 開始位置。自身を含む。\n",
    "\n",
    "end: 終了位置。自身を含まない。\n",
    "\n",
    "step: 増分。"
   ]
  },
  {
   "cell_type": "code",
   "execution_count": null,
   "metadata": {},
   "outputs": [],
   "source": [
    "list(range(10))"
   ]
  },
  {
   "cell_type": "code",
   "execution_count": null,
   "metadata": {},
   "outputs": [],
   "source": [
    "list(range(1, 11, 2))"
   ]
  },
  {
   "cell_type": "markdown",
   "metadata": {},
   "source": [
    "### 文字列をリストとして扱う\n",
    "文字列は文字のリストとして扱うことができる。スライスを使って特定位置の文字（列）を抽出できる。"
   ]
  },
  {
   "cell_type": "code",
   "execution_count": null,
   "metadata": {},
   "outputs": [],
   "source": [
    "sample = 'This is sample text.'"
   ]
  },
  {
   "cell_type": "code",
   "execution_count": null,
   "metadata": {},
   "outputs": [],
   "source": [
    "sample[0:9:2]"
   ]
  },
  {
   "cell_type": "code",
   "execution_count": null,
   "metadata": {},
   "outputs": [],
   "source": [
    "yyyymmdd = '20200828'"
   ]
  },
  {
   "cell_type": "code",
   "execution_count": null,
   "metadata": {},
   "outputs": [],
   "source": [
    "yyyymmdd[0:4]"
   ]
  },
  {
   "cell_type": "code",
   "execution_count": null,
   "metadata": {},
   "outputs": [],
   "source": [
    "yyyymmdd[4:6]"
   ]
  },
  {
   "cell_type": "code",
   "execution_count": null,
   "metadata": {},
   "outputs": [],
   "source": [
    "yyyymmdd[6:8]"
   ]
  },
  {
   "cell_type": "code",
   "execution_count": null,
   "metadata": {},
   "outputs": [],
   "source": [
    "# 文字列の各桁をばらして整数に変換\n",
    "list(map(int, '20200828'))"
   ]
  },
  {
   "cell_type": "markdown",
   "metadata": {},
   "source": [
    "### タプル\n",
    "それぞれ別の型のデータをひとまとめにして扱う。「(」「)」でくくる。ひとまとめにして意味のあるデータ（たとえば個人の属性情報とか）をまとめるのに使うことが多い。\n",
    "\n",
    "タプルの要素は変更不可。"
   ]
  },
  {
   "cell_type": "code",
   "execution_count": null,
   "metadata": {},
   "outputs": [],
   "source": [
    "('Taro', 'male', 22)"
   ]
  },
  {
   "cell_type": "markdown",
   "metadata": {},
   "source": [
    "リストと同じように要素を抽出できる"
   ]
  },
  {
   "cell_type": "code",
   "execution_count": null,
   "metadata": {},
   "outputs": [],
   "source": [
    "('Taro', 'male', 22)[1]"
   ]
  },
  {
   "cell_type": "markdown",
   "metadata": {},
   "source": [
    "タプルの要素は変更不可"
   ]
  },
  {
   "cell_type": "code",
   "execution_count": null,
   "metadata": {},
   "outputs": [],
   "source": [
    "t = ('Taro', 'male', 22)\n",
    "t[0] = 'Jiro'"
   ]
  },
  {
   "cell_type": "markdown",
   "metadata": {},
   "source": [
    "タプルの各要素を分割して取り出す"
   ]
  },
  {
   "cell_type": "code",
   "execution_count": null,
   "metadata": {},
   "outputs": [],
   "source": [
    "name, sex, age = ('Taro', 'male', 22)"
   ]
  },
  {
   "cell_type": "markdown",
   "metadata": {},
   "source": [
    "#### タプルのリスト"
   ]
  },
  {
   "cell_type": "code",
   "execution_count": null,
   "metadata": {},
   "outputs": [],
   "source": [
    "[\n",
    "    ('Taro', 'male', 22),\n",
    "    ('Hanako', 'female', 34)\n",
    "]"
   ]
  },
  {
   "cell_type": "markdown",
   "metadata": {},
   "source": [
    "### 辞書\n",
    "VBAで連想配列と呼ばれているやつ。「キー」と「値」の組の列挙を「{」「}」でくくる。"
   ]
  },
  {
   "cell_type": "code",
   "execution_count": null,
   "metadata": {},
   "outputs": [],
   "source": [
    "taro = {'name': 'Taro', 'sex': 'male', 'age': 22}"
   ]
  },
  {
   "cell_type": "markdown",
   "metadata": {},
   "source": [
    "各要素はキーで指定して取り出す"
   ]
  },
  {
   "cell_type": "code",
   "execution_count": null,
   "metadata": {},
   "outputs": [],
   "source": [
    "taro['name']"
   ]
  },
  {
   "cell_type": "code",
   "execution_count": null,
   "metadata": {},
   "outputs": [],
   "source": [
    "taro['age']"
   ]
  },
  {
   "cell_type": "markdown",
   "metadata": {},
   "source": [
    "### 変数\n",
    "これまで紹介したデータは変数に格納することができる。\n",
    "\n",
    "変数名に使える文字\n",
    "* アルファベット（A-Za-z）\n",
    "* アンダースコア（_）\n",
    "* 数字（0-9）\n",
    "* 先頭1文字目に数字は使えない"
   ]
  },
  {
   "cell_type": "code",
   "execution_count": null,
   "metadata": {},
   "outputs": [],
   "source": [
    "# 日本語の変数名も一応使えるが、使わないほうがいいでしょう。\n",
    "日本語変数 = 100"
   ]
  },
  {
   "cell_type": "code",
   "execution_count": null,
   "metadata": {},
   "outputs": [],
   "source": [
    "a = 100"
   ]
  },
  {
   "cell_type": "code",
   "execution_count": null,
   "metadata": {},
   "outputs": [],
   "source": [
    "a"
   ]
  },
  {
   "cell_type": "code",
   "execution_count": null,
   "metadata": {},
   "outputs": [],
   "source": [
    "hello = 'Hello, World'"
   ]
  },
  {
   "cell_type": "code",
   "execution_count": null,
   "metadata": {},
   "outputs": [],
   "source": [
    "# 変数同士の演算結果を別の変数に代入\n",
    "height = 12\n",
    "width = 3\n",
    "area = height * width"
   ]
  },
  {
   "cell_type": "code",
   "execution_count": null,
   "metadata": {},
   "outputs": [],
   "source": [
    "area"
   ]
  },
  {
   "cell_type": "markdown",
   "metadata": {},
   "source": [
    "#### 変数の命名規則(PEP8)\n",
    "PEP8: Pythonの標準的なコーディング規約。(https://pep8-ja.readthedocs.io/ja/latest/)\n",
    "\n",
    "変数名には小文字のみを使い、単語の区切りにアンダースコアを使う。（snake case）"
   ]
  },
  {
   "cell_type": "code",
   "execution_count": null,
   "metadata": {},
   "outputs": [],
   "source": [
    "file_name = 'customer.csv'"
   ]
  },
  {
   "cell_type": "markdown",
   "metadata": {},
   "source": [
    "定数には大文字のみを使い、単語の区切りにアンダースコアを使う。\n",
    "\n",
    "ただ、Pythonには文法的に再代入を禁止する定数は存在しない。慣習的に大文字＋アンダースコアの変数は固定値を表現していることが多い。"
   ]
  },
  {
   "cell_type": "code",
   "execution_count": null,
   "metadata": {},
   "outputs": [],
   "source": [
    "MAX_BUFFER_SIZE = 1024"
   ]
  },
  {
   "cell_type": "markdown",
   "metadata": {},
   "source": [
    "関数やクラス内部のみで使う変数には、先頭にアンダースコアを使う。"
   ]
  },
  {
   "cell_type": "code",
   "execution_count": null,
   "metadata": {},
   "outputs": [],
   "source": [
    "class Player:\n",
    "    _score = 0\n",
    "    def __init__(self):\n",
    "        pass\n",
    "    def play(self):\n",
    "        self._score = self._score + 1"
   ]
  },
  {
   "cell_type": "markdown",
   "metadata": {},
   "source": [
    "#### 予約語\n",
    "以下のリストにある名前は変数名に使えない。"
   ]
  },
  {
   "cell_type": "code",
   "execution_count": null,
   "metadata": {},
   "outputs": [],
   "source": [
    "import keyword\n",
    "keyword.kwlist"
   ]
  },
  {
   "cell_type": "markdown",
   "metadata": {},
   "source": [
    "## 制御構造\n",
    "分岐と繰り返しについて"
   ]
  },
  {
   "cell_type": "markdown",
   "metadata": {},
   "source": [
    "### 条件式\n",
    "式を実行した結果がTrueかFalseになる文。\n",
    "等号・不等号（<,=,>）やリストに含まれるか(in)など。"
   ]
  },
  {
   "cell_type": "code",
   "execution_count": null,
   "metadata": {},
   "outputs": [],
   "source": [
    "5 > 3"
   ]
  },
  {
   "cell_type": "code",
   "execution_count": null,
   "metadata": {},
   "outputs": [],
   "source": [
    "not 5 > 3"
   ]
  },
  {
   "cell_type": "code",
   "execution_count": null,
   "metadata": {},
   "outputs": [],
   "source": [
    "'Hello' == 'World'"
   ]
  },
  {
   "cell_type": "code",
   "execution_count": null,
   "metadata": {},
   "outputs": [],
   "source": [
    "'Hello' != 'World'"
   ]
  },
  {
   "cell_type": "code",
   "execution_count": null,
   "metadata": {},
   "outputs": [],
   "source": [
    "user_list = ['Taro', 'Jiro', 'Hanako']\n",
    "'Taro' in user_list"
   ]
  },
  {
   "cell_type": "code",
   "execution_count": null,
   "metadata": {},
   "outputs": [],
   "source": [
    "user_list = ['Taro', 'Jiro', 'Hanako']\n",
    "'Taro' not in user_list"
   ]
  },
  {
   "cell_type": "code",
   "execution_count": null,
   "metadata": {},
   "outputs": [],
   "source": [
    "5 > 3 and 'Hello' == 'World'"
   ]
  },
  {
   "cell_type": "code",
   "execution_count": null,
   "metadata": {},
   "outputs": [],
   "source": [
    "5 > 3 and 'Hello' != 'World'"
   ]
  },
  {
   "cell_type": "code",
   "execution_count": null,
   "metadata": {},
   "outputs": [],
   "source": [
    "5 > 3 or 'Hello' == 'World'"
   ]
  },
  {
   "cell_type": "markdown",
   "metadata": {},
   "source": [
    "### 分岐\n",
    "if文を使う。\n",
    "```Python\n",
    "if 条件式１:\n",
    "    文１\n",
    "    文２\n",
    "elif 条件式２:\n",
    "    文３\n",
    "    文４\n",
    "else:\n",
    "    文５\n",
    "```\n",
    "条件式１が真のときは文１、文２が実行される。\n",
    "\n",
    "条件式２が真の場合は文３、文４が実行される。\n",
    "\n",
    "どちらも偽の場合は文５が実行される。\n",
    "\n",
    "switchやcaseみたいな構文はないので、elifを重ねて使う。"
   ]
  },
  {
   "cell_type": "code",
   "execution_count": null,
   "metadata": {},
   "outputs": [],
   "source": [
    "x = 5\n",
    "if x < 0:\n",
    "    print('負の数です')\n",
    "elif x == 0:\n",
    "    print('ゼロです')\n",
    "elif x == 1:\n",
    "    print('1です')\n",
    "elif x == 2:\n",
    "    print('2です')\n",
    "else:\n",
    "    print('たくさん')"
   ]
  },
  {
   "cell_type": "markdown",
   "metadata": {},
   "source": [
    "### 繰り返し\n",
    "for文やwhileを使う。"
   ]
  },
  {
   "cell_type": "markdown",
   "metadata": {},
   "source": [
    "#### for文"
   ]
  },
  {
   "cell_type": "code",
   "execution_count": null,
   "metadata": {},
   "outputs": [],
   "source": [
    "words = ['One', 'Two', 'Three']\n",
    "for w in words:\n",
    "    print(w, len(w))"
   ]
  },
  {
   "cell_type": "code",
   "execution_count": null,
   "metadata": {},
   "outputs": [],
   "source": [
    "for i in range(10):\n",
    "    print(i * 2)"
   ]
  },
  {
   "cell_type": "code",
   "execution_count": null,
   "metadata": {},
   "outputs": [],
   "source": [
    "for i in range(10):\n",
    "    for j in range(5):\n",
    "        print(i * j)"
   ]
  },
  {
   "cell_type": "markdown",
   "metadata": {},
   "source": [
    "リストのループで、インデックスとリストの要素を同時に使いたい場合："
   ]
  },
  {
   "cell_type": "code",
   "execution_count": null,
   "metadata": {},
   "outputs": [],
   "source": [
    "words = ['One', 'Two', 'Three']\n",
    "for i, w in enumerate(words):\n",
    "    print(i, w, len(w))"
   ]
  },
  {
   "cell_type": "markdown",
   "metadata": {},
   "source": [
    "ループカウンターを使わない場合は、「_」を使う。"
   ]
  },
  {
   "cell_type": "code",
   "execution_count": null,
   "metadata": {},
   "outputs": [],
   "source": [
    "for _ in range(10):\n",
    "    print('Hello')"
   ]
  },
  {
   "cell_type": "markdown",
   "metadata": {},
   "source": [
    "### while\n",
    "```Python\n",
    "while (条件が真なら以下を実行する):\n",
    "    文１\n",
    "    文２\n",
    "    ・・・\n",
    "```"
   ]
  },
  {
   "cell_type": "code",
   "execution_count": null,
   "metadata": {},
   "outputs": [],
   "source": [
    "a, b = 30, 2\n",
    "while a > b:\n",
    "    a, b = a - 1, b + 1\n",
    "    print(a, b)"
   ]
  },
  {
   "cell_type": "markdown",
   "metadata": {},
   "source": [
    "## 例題：FizzBuzz\n",
    "ここまでの内容が理解できたらFizzBuzz問題が解けるようになっています。\n",
    "復習としてチャレンジしてみましょう。\n",
    "\n",
    "要件：\n",
    "\n",
    "1から100までの数字を順番に表示する。\n",
    "ただし、3の倍数のときは「Fizz」、5の倍数のときは「Buzz」、3と5の公倍数のときは「FizzBuzz」と表示する。\n",
    "\n",
    "解答のヒント：\n",
    "1. 1から100までループして、その数を出力する\n",
    "2. 1から100までループして、その数を3で割ったときの余りが0か、5で割ったときの余りが0か、15で割ったときの余りが0かを判定して、その結果を出力する\n",
    "3. 1から100までループして、その数が3の倍数なら'Fizz'、5の倍数なら'Buzz'、15の倍数なら'FizzBuzz'、それ以外ならその数字を出力する"
   ]
  },
  {
   "cell_type": "code",
   "execution_count": null,
   "metadata": {},
   "outputs": [],
   "source": [
    "# ヒント1"
   ]
  },
  {
   "cell_type": "code",
   "execution_count": null,
   "metadata": {},
   "outputs": [],
   "source": [
    "# ヒント2"
   ]
  },
  {
   "cell_type": "code",
   "execution_count": null,
   "metadata": {},
   "outputs": [],
   "source": [
    "# ヒント3"
   ]
  },
  {
   "cell_type": "markdown",
   "metadata": {},
   "source": [
    "## 関数の定義\n",
    "共通した一連の処理をまとめて関数として呼び出す。\n",
    "下の例のように関数についての解説文を書いておくと、あとから見返したときやその関数を再利用する際に理解が早いので、\n",
    "余裕があったら書いておくと良い。\n",
    "\n",
    "```Python\n",
    "def function_name(arg1, arg2, arg3='a'):\n",
    "    \"\"\"\n",
    "    この関数はこれこれこういうことを行う\n",
    "    \n",
    "    Parameters\n",
    "    ----------\n",
    "    arg1 : Int\n",
    "        これこれこういう値\n",
    "    arg2 : String\n",
    "        これこれこういう値\n",
    "    arg3 : String or None, default 'a'\n",
    "        これこれこういう値（デフォルト値がある場合）\n",
    "    \n",
    "    Returns\n",
    "    ----------\n",
    "    value : Boolean\n",
    "        これこれこういう意味の値    \n",
    "    \"\"\"\n",
    "    文１\n",
    "    文２\n",
    "    ・・・\n",
    "    return 処理結果\n",
    "```"
   ]
  },
  {
   "cell_type": "code",
   "execution_count": 138,
   "metadata": {},
   "outputs": [],
   "source": [
    "def fizzbuzz(i):\n",
    "    '''\n",
    "    引数に与えられた値のFizzBuzzを返す\n",
    "    \n",
    "    Parameter\n",
    "    ----------\n",
    "    i : Int\n",
    "        対象の整数。自然数を想定。\n",
    "    \n",
    "    Returns\n",
    "    ----------\n",
    "    fizzbuzz : String\n",
    "        引数iが3の倍数なら'Fizz',5の倍数なら'Buzz', \n",
    "        15の倍数なら'FizzBuzz',それ以外なら引数をそのまま返す。\n",
    "    '''\n",
    "    if (i % 5 == 0 and i % 3 == 0):\n",
    "        return 'FizzBuzz'\n",
    "    if (i % 3 == 0):\n",
    "        return 'Fizz'\n",
    "    if (i % 5 == 0):\n",
    "        return 'Buzz'\n",
    "    return str(i)"
   ]
  },
  {
   "cell_type": "markdown",
   "metadata": {},
   "source": [
    "関数の上にカーソルをおいてShift+Tabで解説文がポップアップする"
   ]
  },
  {
   "cell_type": "code",
   "execution_count": 137,
   "metadata": {},
   "outputs": [
    {
     "data": {
      "text/plain": [
       "'14'"
      ]
     },
     "execution_count": 137,
     "metadata": {},
     "output_type": "execute_result"
    }
   ],
   "source": [
    "fizzbuzz(14)"
   ]
  },
  {
   "cell_type": "markdown",
   "metadata": {},
   "source": [
    "## ファイル読み書き"
   ]
  },
  {
   "cell_type": "markdown",
   "metadata": {},
   "source": [
    "## データベース読み書き"
   ]
  },
  {
   "cell_type": "markdown",
   "metadata": {},
   "source": [
    "## 既存ライブラリの利用\n",
    "### ライブラリの使い方\n",
    "### よく使う標準ライブラリ\n",
    "### 標準じゃないけどよく使うライブラリ"
   ]
  }
 ],
 "metadata": {
  "kernelspec": {
   "display_name": "Python 3",
   "language": "python",
   "name": "python3"
  },
  "language_info": {
   "codemirror_mode": {
    "name": "ipython",
    "version": 3
   },
   "file_extension": ".py",
   "mimetype": "text/x-python",
   "name": "python",
   "nbconvert_exporter": "python",
   "pygments_lexer": "ipython3",
   "version": "3.7.6"
  }
 },
 "nbformat": 4,
 "nbformat_minor": 4
}
