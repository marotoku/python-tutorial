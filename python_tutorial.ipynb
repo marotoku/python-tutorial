{
 "cells": [
  {
   "cell_type": "markdown",
   "metadata": {},
   "source": [
    "# データサイエンス100本ノックを始める前に --Python基礎--\n",
    "\n",
    "## データサイエンス100本ノックを始める前に、最低限把握しておくべきPythonの基礎を身に着ける。"
   ]
  },
  {
   "cell_type": "markdown",
   "metadata": {},
   "source": [
    "### Jupyter Notebookの使い方\n",
    "セルに実行したい文を入力して、Ctrl+Enterで実行する。\n",
    "実行した結果（1セルに複数の文があるときは最後の結果）がすぐ下に表示される。"
   ]
  },
  {
   "cell_type": "code",
   "execution_count": null,
   "metadata": {},
   "outputs": [],
   "source": [
    "'Hello, World'"
   ]
  },
  {
   "cell_type": "code",
   "execution_count": null,
   "metadata": {},
   "outputs": [],
   "source": [
    "'Hello, World'\n",
    "'Hello, Python'"
   ]
  },
  {
   "cell_type": "markdown",
   "metadata": {},
   "source": [
    "### 標準出力に表示\n",
    "コンソールに出力する際は`print()`関数を使う。"
   ]
  },
  {
   "cell_type": "code",
   "execution_count": null,
   "metadata": {},
   "outputs": [],
   "source": [
    "print('Hello, World')"
   ]
  },
  {
   "cell_type": "markdown",
   "metadata": {},
   "source": [
    "### Pythonの代表的なデータ型\n",
    "* 数値（整数、浮動小数点数）\n",
    "* 文字列\n",
    "* リスト\n",
    "* タプル\n",
    "* 辞書（連想配列）"
   ]
  },
  {
   "cell_type": "markdown",
   "metadata": {},
   "source": [
    "#### 数値\n",
    "数値と式は素直な方。"
   ]
  },
  {
   "cell_type": "code",
   "execution_count": null,
   "metadata": {},
   "outputs": [],
   "source": [
    "2 + 2"
   ]
  },
  {
   "cell_type": "code",
   "execution_count": null,
   "metadata": {},
   "outputs": [],
   "source": [
    "50 - 5 * 6"
   ]
  },
  {
   "cell_type": "code",
   "execution_count": null,
   "metadata": {},
   "outputs": [],
   "source": [
    "# 乗算・除算が加算・減算より優先される\n",
    "50 - 5 * 6 / 4"
   ]
  },
  {
   "cell_type": "code",
   "execution_count": null,
   "metadata": {},
   "outputs": [],
   "source": [
    "# カッコでくくって演算の優先順位を変更する\n",
    "(50 - 5 * 6) / 4"
   ]
  },
  {
   "cell_type": "code",
   "execution_count": null,
   "metadata": {},
   "outputs": [],
   "source": [
    "# 除算の結果、浮動小数点数が返ってくることに注意\n",
    "17 / 3"
   ]
  },
  {
   "cell_type": "code",
   "execution_count": null,
   "metadata": {},
   "outputs": [],
   "source": [
    "# 除算の商（整数部）\n",
    "17 // 3"
   ]
  },
  {
   "cell_type": "code",
   "execution_count": null,
   "metadata": {},
   "outputs": [],
   "source": [
    "# 剰余\n",
    "17 % 3"
   ]
  },
  {
   "cell_type": "code",
   "execution_count": null,
   "metadata": {},
   "outputs": [],
   "source": [
    "# 整数と浮動小数点数が混在する場合、整数は浮動小数点数に変換される\n",
    "4 * 3.75 - 1"
   ]
  },
  {
   "cell_type": "code",
   "execution_count": null,
   "metadata": {},
   "outputs": [],
   "source": [
    "# べき乗\n",
    "5 ** 2"
   ]
  },
  {
   "cell_type": "markdown",
   "metadata": {},
   "source": [
    "#### 文字列\n",
    "「'」か「\"」でくくる。どちらでも意味は違いないので好きな方を使うと良い。\n",
    "ただし、プログラムの中でどちらを使うか統一しておいたほうが良い。"
   ]
  },
  {
   "cell_type": "code",
   "execution_count": null,
   "metadata": {},
   "outputs": [],
   "source": [
    "'Hello, World'"
   ]
  },
  {
   "cell_type": "code",
   "execution_count": null,
   "metadata": {},
   "outputs": [],
   "source": [
    "'日本語も使えます'"
   ]
  },
  {
   "cell_type": "code",
   "execution_count": null,
   "metadata": {},
   "outputs": [],
   "source": [
    "print('\"ダブルクォートを文字として使う場合\"')"
   ]
  },
  {
   "cell_type": "code",
   "execution_count": null,
   "metadata": {},
   "outputs": [],
   "source": [
    "print(\"'逆にシングルクォートを文字として使う'\")"
   ]
  },
  {
   "cell_type": "code",
   "execution_count": null,
   "metadata": {},
   "outputs": [],
   "source": [
    "# 改行を含む文字列は「\"\"\"」で囲う\n",
    "\"\"\"終わりは近い。\n",
    "ドアのところで音が聞こえる。\n",
    "何かぬめぬめした巨体が、ドアにぶつかっているような音だ。\n",
    "見つかりはすまい。\n",
    "神よ、あの手が！窓に！窓に！\n",
    "\"\"\""
   ]
  },
  {
   "cell_type": "markdown",
   "metadata": {},
   "source": [
    "#### 文字列の連結・反復\n",
    "「+」で連結、「*」で反復"
   ]
  },
  {
   "cell_type": "code",
   "execution_count": null,
   "metadata": {},
   "outputs": [],
   "source": [
    "'Hello' + 'World'"
   ]
  },
  {
   "cell_type": "code",
   "execution_count": null,
   "metadata": {},
   "outputs": [],
   "source": [
    "# 連続して並んでいる複数の文字列リテラル（「'」でくくられたやつ）は自動的に連結される\n",
    "'Hello''World'"
   ]
  },
  {
   "cell_type": "code",
   "execution_count": null,
   "metadata": {},
   "outputs": [],
   "source": [
    "'Hello' * 3"
   ]
  },
  {
   "cell_type": "markdown",
   "metadata": {},
   "source": [
    "#### 接頭辞\n",
    "文字列の先頭（クォーテーションの前）に特定の記号を付与して、特別な意味を付与することができる。\n",
    "* r: 生文字列。「\\」を直接書ける。正規表現やWindowsのフォルダ名を表現する際などよく使う。\n",
    "* f: フォーマット済み文字列（f-string）。Python3.6以降にて利用可能。めちゃ便利。\n",
    "* b: バイト列。あまり使わない。システムプログラミング系では使う場面もあるかも。"
   ]
  },
  {
   "cell_type": "code",
   "execution_count": null,
   "metadata": {},
   "outputs": [],
   "source": [
    "r'C:\\Users\\tokumaru\\Documents\\himitu'"
   ]
  },
  {
   "cell_type": "code",
   "execution_count": null,
   "metadata": {},
   "outputs": [],
   "source": [
    "r'^\\d.+'"
   ]
  },
  {
   "cell_type": "code",
   "execution_count": null,
   "metadata": {},
   "outputs": [],
   "source": [
    "name = 'tokumaru'\n",
    "f'Hello, {name}'"
   ]
  },
  {
   "cell_type": "markdown",
   "metadata": {},
   "source": [
    "### リスト\n",
    "複数のデータを[]で囲んでひとまとめにしたもの。配列っぽいものと思っておけばひとまずOK。\n",
    "同じ型の要素をひとまとめにするときに使う。\n",
    "まあ別の型の要素を混ぜても怒られないけど…"
   ]
  },
  {
   "cell_type": "code",
   "execution_count": null,
   "metadata": {},
   "outputs": [],
   "source": [
    "a = [1, 2, 3, 4, 5, 6, 7]"
   ]
  },
  {
   "cell_type": "code",
   "execution_count": null,
   "metadata": {},
   "outputs": [],
   "source": [
    "a"
   ]
  },
  {
   "cell_type": "markdown",
   "metadata": {},
   "source": [
    "#### リストのスライス\n",
    "リストの要素を指定して抽出する。0はじまりであること注意。\n",
    "```Python\n",
    "[ 開始位置 : 終了位置 : 増分]\n",
    "```\n",
    "開始位置：自身は含まれる。\n",
    "\n",
    "終了位置：自身は含まれない。省略可能。指定しなかったら最後まで。\n",
    "\n",
    "増分：何個おきに拾うか。省略可能。"
   ]
  },
  {
   "cell_type": "code",
   "execution_count": null,
   "metadata": {},
   "outputs": [],
   "source": [
    "# 指定の要素を1つだけ抽出する\n",
    "a[0]"
   ]
  },
  {
   "cell_type": "markdown",
   "metadata": {},
   "source": [
    "-1番目の要素は最後の要素。"
   ]
  },
  {
   "cell_type": "code",
   "execution_count": null,
   "metadata": {},
   "outputs": [],
   "source": [
    "a[-1]"
   ]
  },
  {
   "cell_type": "code",
   "execution_count": null,
   "metadata": {},
   "outputs": [],
   "source": [
    "a[1:5:]"
   ]
  },
  {
   "cell_type": "code",
   "execution_count": null,
   "metadata": {},
   "outputs": [],
   "source": [
    "a[::3]"
   ]
  },
  {
   "cell_type": "code",
   "execution_count": null,
   "metadata": {},
   "outputs": [],
   "source": [
    "a[1:5:2]"
   ]
  },
  {
   "cell_type": "markdown",
   "metadata": {},
   "source": [
    "範囲外を指定した場合は空のリストが返る。"
   ]
  },
  {
   "cell_type": "code",
   "execution_count": null,
   "metadata": {},
   "outputs": [],
   "source": [
    "a[100:200:300]"
   ]
  },
  {
   "cell_type": "markdown",
   "metadata": {},
   "source": [
    "#### 連続する数値を生成する\n",
    "```Python\n",
    "range(start, end, step)\n",
    "```\n",
    "start: 開始位置。自身を含む。\n",
    "\n",
    "end: 終了位置。自身を含まない。\n",
    "\n",
    "step: 増分。"
   ]
  },
  {
   "cell_type": "code",
   "execution_count": null,
   "metadata": {},
   "outputs": [],
   "source": [
    "list(range(10))"
   ]
  },
  {
   "cell_type": "code",
   "execution_count": null,
   "metadata": {},
   "outputs": [],
   "source": [
    "list(range(1, 11, 2))"
   ]
  },
  {
   "cell_type": "markdown",
   "metadata": {},
   "source": [
    "### 文字列をリストとして扱う\n",
    "文字列は文字のリストとして扱うことができる。スライスを使って特定位置の文字（列）を抽出できる。"
   ]
  },
  {
   "cell_type": "code",
   "execution_count": null,
   "metadata": {},
   "outputs": [],
   "source": [
    "sample = 'This is sample text.'"
   ]
  },
  {
   "cell_type": "code",
   "execution_count": null,
   "metadata": {},
   "outputs": [],
   "source": [
    "sample[0:9:2]"
   ]
  },
  {
   "cell_type": "code",
   "execution_count": null,
   "metadata": {},
   "outputs": [],
   "source": [
    "yyyymmdd = '20200828'"
   ]
  },
  {
   "cell_type": "code",
   "execution_count": null,
   "metadata": {},
   "outputs": [],
   "source": [
    "yyyymmdd[0:4]"
   ]
  },
  {
   "cell_type": "code",
   "execution_count": null,
   "metadata": {},
   "outputs": [],
   "source": [
    "yyyymmdd[4:6]"
   ]
  },
  {
   "cell_type": "code",
   "execution_count": null,
   "metadata": {},
   "outputs": [],
   "source": [
    "yyyymmdd[6:8]"
   ]
  },
  {
   "cell_type": "code",
   "execution_count": null,
   "metadata": {},
   "outputs": [],
   "source": [
    "# 文字列の各桁をばらして整数に変換\n",
    "list(map(int, '20200828'))"
   ]
  },
  {
   "cell_type": "markdown",
   "metadata": {},
   "source": [
    "### タプル\n",
    "それぞれ別の型のデータをひとまとめにして扱う。「(」「)」でくくる。ひとまとめにして意味のあるデータ（たとえば個人の属性情報とか）をまとめるのに使うことが多い。\n",
    "\n",
    "タプルの要素は変更不可。"
   ]
  },
  {
   "cell_type": "code",
   "execution_count": null,
   "metadata": {},
   "outputs": [],
   "source": [
    "('Taro', 'male', 22)"
   ]
  },
  {
   "cell_type": "markdown",
   "metadata": {},
   "source": [
    "リストと同じように要素を抽出できる"
   ]
  },
  {
   "cell_type": "code",
   "execution_count": null,
   "metadata": {},
   "outputs": [],
   "source": [
    "('Taro', 'male', 22)[1]"
   ]
  },
  {
   "cell_type": "markdown",
   "metadata": {},
   "source": [
    "タプルの要素は変更不可"
   ]
  },
  {
   "cell_type": "code",
   "execution_count": null,
   "metadata": {},
   "outputs": [],
   "source": [
    "t = ('Taro', 'male', 22)\n",
    "t[0] = 'Jiro'"
   ]
  },
  {
   "cell_type": "markdown",
   "metadata": {},
   "source": [
    "タプルの各要素を分割して取り出す"
   ]
  },
  {
   "cell_type": "code",
   "execution_count": null,
   "metadata": {},
   "outputs": [],
   "source": [
    "name, sex, age = ('Taro', 'male', 22)"
   ]
  },
  {
   "cell_type": "markdown",
   "metadata": {},
   "source": [
    "#### タプルのリスト"
   ]
  },
  {
   "cell_type": "code",
   "execution_count": null,
   "metadata": {},
   "outputs": [],
   "source": [
    "[\n",
    "    ('Taro', 'male', 22),\n",
    "    ('Hanako', 'female', 34)\n",
    "]"
   ]
  },
  {
   "cell_type": "markdown",
   "metadata": {},
   "source": [
    "### 辞書\n",
    "VBAで連想配列と呼ばれているやつ。「キー」と「値」の組の列挙を「{」「}」でくくる。"
   ]
  },
  {
   "cell_type": "code",
   "execution_count": null,
   "metadata": {},
   "outputs": [],
   "source": [
    "taro = {'name': 'Taro', 'sex': 'male', 'age': 22}"
   ]
  },
  {
   "cell_type": "markdown",
   "metadata": {},
   "source": [
    "各要素はキーで指定して取り出す"
   ]
  },
  {
   "cell_type": "code",
   "execution_count": null,
   "metadata": {},
   "outputs": [],
   "source": [
    "taro['name']"
   ]
  },
  {
   "cell_type": "code",
   "execution_count": null,
   "metadata": {},
   "outputs": [],
   "source": [
    "taro['age']"
   ]
  },
  {
   "cell_type": "markdown",
   "metadata": {},
   "source": [
    "### 変数\n",
    "これまで紹介したデータは変数に格納することができる。\n",
    "\n",
    "変数名に使える文字\n",
    "* アルファベット（A-Za-z）\n",
    "* アンダースコア（_）\n",
    "* 数字（0-9）\n",
    "* 先頭1文字目に数字は使えない"
   ]
  },
  {
   "cell_type": "code",
   "execution_count": null,
   "metadata": {},
   "outputs": [],
   "source": [
    "# 日本語の変数名も一応使えるが、使わないほうがいいでしょう。\n",
    "日本語変数 = 100"
   ]
  },
  {
   "cell_type": "code",
   "execution_count": null,
   "metadata": {},
   "outputs": [],
   "source": [
    "a = 100"
   ]
  },
  {
   "cell_type": "code",
   "execution_count": null,
   "metadata": {},
   "outputs": [],
   "source": [
    "a"
   ]
  },
  {
   "cell_type": "code",
   "execution_count": null,
   "metadata": {},
   "outputs": [],
   "source": [
    "hello = 'Hello, World'"
   ]
  },
  {
   "cell_type": "code",
   "execution_count": null,
   "metadata": {},
   "outputs": [],
   "source": [
    "# 変数同士の演算結果を別の変数に代入\n",
    "height = 12\n",
    "width = 3\n",
    "area = height * width"
   ]
  },
  {
   "cell_type": "code",
   "execution_count": null,
   "metadata": {},
   "outputs": [],
   "source": [
    "area"
   ]
  },
  {
   "cell_type": "markdown",
   "metadata": {},
   "source": [
    "#### 変数の命名規則(PEP8)\n",
    "PEP8: Pythonの標準的なコーディング規約。(https://pep8-ja.readthedocs.io/ja/latest/)\n",
    "\n",
    "・変数名には小文字のみを使い、単語の区切りにアンダースコアを使う。（snake case）"
   ]
  },
  {
   "cell_type": "code",
   "execution_count": null,
   "metadata": {},
   "outputs": [],
   "source": [
    "file_name = 'customer.csv'"
   ]
  },
  {
   "cell_type": "markdown",
   "metadata": {},
   "source": [
    "・定数には大文字のみを使い、単語の区切りにアンダースコアを使う。\n",
    "\n",
    "ただ、Pythonには文法的に再代入を禁止する定数は存在しない。慣習的に大文字＋アンダースコアの変数は固定値を表現していることが多い。"
   ]
  },
  {
   "cell_type": "code",
   "execution_count": null,
   "metadata": {},
   "outputs": [],
   "source": [
    "MAX_BUFFER_SIZE = 1024"
   ]
  },
  {
   "cell_type": "markdown",
   "metadata": {},
   "source": [
    "・モジュール内部のみで使う変数には、先頭にアンダースコアを使う。"
   ]
  },
  {
   "cell_type": "code",
   "execution_count": null,
   "metadata": {},
   "outputs": [],
   "source": [
    "class Player:\n",
    "    _score = 0\n",
    "    def __init__(self):\n",
    "        pass\n",
    "    def play(self):\n",
    "        self._score = self._score + 1\n",
    "    def score(self):\n",
    "        return self._score\n",
    "\n",
    "p1 = Player()\n",
    "p1.play()\n",
    "p1.score()"
   ]
  },
  {
   "cell_type": "markdown",
   "metadata": {},
   "source": [
    "#### 予約語\n",
    "以下のリストにある名前は変数名に使えない。"
   ]
  },
  {
   "cell_type": "code",
   "execution_count": null,
   "metadata": {},
   "outputs": [],
   "source": [
    "import keyword\n",
    "keyword.kwlist"
   ]
  },
  {
   "cell_type": "markdown",
   "metadata": {},
   "source": [
    "## 制御構造\n",
    "分岐と繰り返しについて"
   ]
  },
  {
   "cell_type": "markdown",
   "metadata": {},
   "source": [
    "### 条件式\n",
    "式を実行した結果がTrueかFalseになる文。\n",
    "等号・不等号（<,=,>）やリストに含まれるか(in)など。"
   ]
  },
  {
   "cell_type": "code",
   "execution_count": null,
   "metadata": {},
   "outputs": [],
   "source": [
    "5 > 3"
   ]
  },
  {
   "cell_type": "code",
   "execution_count": null,
   "metadata": {},
   "outputs": [],
   "source": [
    "# 否定\n",
    "not 5 > 3"
   ]
  },
  {
   "cell_type": "code",
   "execution_count": null,
   "metadata": {},
   "outputs": [],
   "source": [
    "# 範囲指定\n",
    "x = 5\n",
    "3 < x <= 6"
   ]
  },
  {
   "cell_type": "code",
   "execution_count": null,
   "metadata": {},
   "outputs": [],
   "source": [
    "# 文字列の一致・不一致\n",
    "'Hello' == 'World'"
   ]
  },
  {
   "cell_type": "code",
   "execution_count": null,
   "metadata": {},
   "outputs": [],
   "source": [
    "'Hello' != 'World'"
   ]
  },
  {
   "cell_type": "code",
   "execution_count": null,
   "metadata": {},
   "outputs": [],
   "source": [
    "# リストに存在するか\n",
    "user_list = ['Taro', 'Jiro', 'Hanako']\n",
    "'Taro' in user_list"
   ]
  },
  {
   "cell_type": "code",
   "execution_count": null,
   "metadata": {},
   "outputs": [],
   "source": [
    "user_list = ['Taro', 'Jiro', 'Hanako']\n",
    "'Taro' not in user_list"
   ]
  },
  {
   "cell_type": "code",
   "execution_count": null,
   "metadata": {},
   "outputs": [],
   "source": [
    "# 条件の組み合わせ\n",
    "5 > 3 and 'Hello' == 'World'"
   ]
  },
  {
   "cell_type": "code",
   "execution_count": null,
   "metadata": {},
   "outputs": [],
   "source": [
    "5 > 3 and 'Hello' != 'World'"
   ]
  },
  {
   "cell_type": "code",
   "execution_count": null,
   "metadata": {},
   "outputs": [],
   "source": [
    "5 > 3 or 'Hello' == 'World'"
   ]
  },
  {
   "cell_type": "markdown",
   "metadata": {},
   "source": [
    "### 分岐\n",
    "1. if文\n",
    "\n",
    "```Python\n",
    "if 条件式１:\n",
    "    文１\n",
    "    文２\n",
    "elif 条件式２:\n",
    "    文３\n",
    "    文４\n",
    "else:\n",
    "    文５\n",
    "```\n",
    "\n",
    "条件式１が真のときは文１、文２が実行される。\n",
    "\n",
    "条件式２が真の場合は文３、文４が実行される。\n",
    "\n",
    "どちらも偽の場合は文５が実行される。\n",
    "\n",
    "switchやcaseみたいな構文はないので、elifを重ねて使う。"
   ]
  },
  {
   "cell_type": "code",
   "execution_count": null,
   "metadata": {},
   "outputs": [],
   "source": [
    "x = 5\n",
    "if x < 0:\n",
    "    print('負の数です')\n",
    "elif x == 0:\n",
    "    print('ゼロです')\n",
    "elif x == 1:\n",
    "    print('1です')\n",
    "elif x == 2:\n",
    "    print('2です')\n",
    "else:\n",
    "    print('たくさん')"
   ]
  },
  {
   "cell_type": "markdown",
   "metadata": {},
   "source": [
    "2. 三項演算子\n",
    "\n",
    "```Python\n",
    "(条件式が真のときの値) if (条件式) else (条件式が偽のときの値)\n",
    "```\n",
    "\n",
    "単純な条件の場合はこちらを使うこともある。"
   ]
  },
  {
   "cell_type": "code",
   "execution_count": null,
   "metadata": {},
   "outputs": [],
   "source": [
    "user_id = 1\n",
    "'Hello, {}'.format('Administrator' if user_id == 0 else 'User')"
   ]
  },
  {
   "cell_type": "markdown",
   "metadata": {},
   "source": [
    "### 繰り返し\n",
    "for文やwhileを使う。"
   ]
  },
  {
   "cell_type": "markdown",
   "metadata": {},
   "source": [
    "#### for文"
   ]
  },
  {
   "cell_type": "code",
   "execution_count": null,
   "metadata": {},
   "outputs": [],
   "source": [
    "words = ['One', 'Two', 'Three']\n",
    "for w in words:\n",
    "    print(w, len(w))"
   ]
  },
  {
   "cell_type": "code",
   "execution_count": null,
   "metadata": {},
   "outputs": [],
   "source": [
    "for i in range(10):\n",
    "    print(i * 2)"
   ]
  },
  {
   "cell_type": "code",
   "execution_count": null,
   "metadata": {},
   "outputs": [],
   "source": [
    "for i in range(10):\n",
    "    for j in range(5):\n",
    "        print(i * j)"
   ]
  },
  {
   "cell_type": "markdown",
   "metadata": {},
   "source": [
    "リストのループで、インデックスとリストの要素を同時に使いたい場合："
   ]
  },
  {
   "cell_type": "code",
   "execution_count": null,
   "metadata": {},
   "outputs": [],
   "source": [
    "words = ['One', 'Two', 'Three']\n",
    "for i, w in enumerate(words):\n",
    "    print(i, w, len(w))"
   ]
  },
  {
   "cell_type": "markdown",
   "metadata": {},
   "source": [
    "ループカウンターを使わない場合は、「_」を使う。"
   ]
  },
  {
   "cell_type": "code",
   "execution_count": null,
   "metadata": {},
   "outputs": [],
   "source": [
    "for _ in range(10):\n",
    "    print('Hello')"
   ]
  },
  {
   "cell_type": "markdown",
   "metadata": {},
   "source": [
    "### while\n",
    "```Python\n",
    "while (条件が真なら以下を実行する):\n",
    "    文１\n",
    "    文２\n",
    "    ・・・\n",
    "```"
   ]
  },
  {
   "cell_type": "code",
   "execution_count": null,
   "metadata": {},
   "outputs": [],
   "source": [
    "a, b = 30, 2\n",
    "while a > b:\n",
    "    a, b = a - 1, b + 1\n",
    "    print(a, b)"
   ]
  },
  {
   "cell_type": "markdown",
   "metadata": {},
   "source": [
    "## 例題：FizzBuzz\n",
    "ここまでの内容が理解できたらFizzBuzz問題が解けるようになっています。\n",
    "復習としてチャレンジしてみましょう。\n",
    "\n",
    "要件：\n",
    "\n",
    "1から100までの数字を順番に表示する。\n",
    "ただし、3の倍数のときは「Fizz」、5の倍数のときは「Buzz」、3と5の公倍数のときは「FizzBuzz」と表示する。\n",
    "\n",
    "解答のヒント：\n",
    "1. 1から100までループして、その数を出力する\n",
    "2. 1から100までループして、その数を3で割ったときの余り、5で割ったときの余り、15で割ったときの余りを出力する\n",
    "3. 1から100までループして、その数が3の倍数なら'Fizz'、5の倍数なら'Buzz'、15の倍数なら'FizzBuzz'、それ以外ならその数字を出力する"
   ]
  },
  {
   "cell_type": "code",
   "execution_count": null,
   "metadata": {},
   "outputs": [],
   "source": [
    "# ヒント1"
   ]
  },
  {
   "cell_type": "code",
   "execution_count": null,
   "metadata": {},
   "outputs": [],
   "source": [
    "# ヒント2"
   ]
  },
  {
   "cell_type": "code",
   "execution_count": null,
   "metadata": {},
   "outputs": [],
   "source": [
    "# ヒント3"
   ]
  },
  {
   "cell_type": "markdown",
   "metadata": {},
   "source": [
    "## 関数の定義\n",
    "共通した一連の処理をまとめて関数として呼び出す。\n",
    "下の例のように関数についての解説文を書いておくと、あとから見返したときやその関数を再利用する際に理解が早いので、\n",
    "余裕があったら書いておくと良い。\n",
    "\n",
    "```Python\n",
    "def function_name(arg1, arg2, arg3='a'):\n",
    "    \"\"\"\n",
    "    この関数はこれこれこういうことを行う\n",
    "    \n",
    "    Parameters\n",
    "    ----------\n",
    "    arg1 : Int\n",
    "        これこれこういう値\n",
    "    arg2 : String\n",
    "        これこれこういう値\n",
    "    arg3 : String or None, default 'a'\n",
    "        これこれこういう値（デフォルト値がある場合）\n",
    "    \n",
    "    Returns\n",
    "    ----------\n",
    "    value : Boolean\n",
    "        これこれこういう意味の値    \n",
    "    \"\"\"\n",
    "    文１\n",
    "    文２\n",
    "    ・・・\n",
    "    return 処理結果\n",
    "```"
   ]
  },
  {
   "cell_type": "code",
   "execution_count": null,
   "metadata": {},
   "outputs": [],
   "source": [
    "def fizzbuzz(i):\n",
    "    '''\n",
    "    引数に与えられた値のFizzBuzzを返す\n",
    "    \n",
    "    Parameter\n",
    "    ----------\n",
    "    i : Int\n",
    "        対象の整数。自然数を想定。\n",
    "    \n",
    "    Returns\n",
    "    ----------\n",
    "    fizzbuzz : String\n",
    "        引数iが3の倍数なら'Fizz',5の倍数なら'Buzz', \n",
    "        15の倍数なら'FizzBuzz',それ以外なら引数をそのまま返す。\n",
    "    '''\n",
    "    if (i % 5 == 0 and i % 3 == 0):\n",
    "        return 'FizzBuzz'\n",
    "    if (i % 3 == 0):\n",
    "        return 'Fizz'\n",
    "    if (i % 5 == 0):\n",
    "        return 'Buzz'\n",
    "    return str(i)"
   ]
  },
  {
   "cell_type": "markdown",
   "metadata": {},
   "source": [
    "関数の上にカーソルをおいてShift+Tabで解説文がポップアップする"
   ]
  },
  {
   "cell_type": "code",
   "execution_count": null,
   "metadata": {},
   "outputs": [],
   "source": [
    "# fizzbuzz()の上にカーソルを合わせてShift+Tab\n",
    "fizzbuzz(14)"
   ]
  },
  {
   "cell_type": "code",
   "execution_count": null,
   "metadata": {},
   "outputs": [],
   "source": [
    "import pandas as pd"
   ]
  },
  {
   "cell_type": "code",
   "execution_count": null,
   "metadata": {},
   "outputs": [],
   "source": [
    "# read_csv()の上にカーソルを合わせてShift+Tab\n",
    "pd.read_csv()"
   ]
  },
  {
   "cell_type": "markdown",
   "metadata": {},
   "source": [
    "## ファイル読み書き\n",
    "### テキストファイルを読み込む\n",
    "以下の構文をイディオムとして使うと良い。変数`buf`にhimitu.txtの内容がまるっとロードされる。\n",
    "```Python\n",
    "filename = r'C:\\Users\\tokumaru\\Documents\\himitu\\himitu.txt'\n",
    "with open(filename, mode='r', encoding='cp932') as f:\n",
    "    buf = f.read()\n",
    "```\n",
    "\n",
    "１行ずつ読み込んで何らかの処理を行いたい場合は、ファイルオブジェクト(f)をfor文で回すと良い。\n",
    "```Python\n",
    "filename = r'C:\\Users\\tokumaru\\Documents\\himitu\\himitu.txt'\n",
    "with open(filename, mode='r', encoding='cp932') as f:\n",
    "    for line in f:\n",
    "        do_some_awesome_thing(line)\n",
    "```\n",
    "\n",
    "CSVのようなテーブルデータを読むときは、pandasを使うのが一番楽。"
   ]
  },
  {
   "cell_type": "markdown",
   "metadata": {},
   "source": [
    "### テキストファイルに書き出す\n",
    "書き出すときも`with open()...`の構文が使える。`mode='w'`で上書き。\n",
    "\n",
    "```Python\n",
    "write_str = '寿限無寿限無後光の擦り切れ...'\n",
    "filename = r'C:\\Users\\tokumaru\\Documents\\himitu\\himitu.txt'\n",
    "with open(filename, mode='w', encoding='cp932') as f:\n",
    "    print(write_str)\n",
    "```\n",
    "\n",
    "よく使う書き込みモード\n",
    "* 上書き（存在しない場合は新規作成）: 'w'\n",
    "* 新規作成専用（存在するときはエラー）:'x'\n",
    "* 末尾に追記（存在しない場合は新規作成）: 'a'\n"
   ]
  },
  {
   "cell_type": "markdown",
   "metadata": {},
   "source": [
    "### エクセルファイルを読み込む\n",
    "エクセルを読み込みたいと思うときは、テーブルデータとして読み込むことがほとんどでしょう。\n",
    "これもPandasを使ったほうが扱いやすいと思います。\n",
    "\n",
    "どうしても、というときは、OpenPyXLを使います。\n",
    "```sh\n",
    "pip install openpyxl\n",
    "```\n",
    "\n",
    "公式ドキュメント: https://openpyxl.readthedocs.io/en/stable/index.html"
   ]
  },
  {
   "cell_type": "markdown",
   "metadata": {},
   "source": [
    "### エクセルファイルに書き出す\n",
    "OpenPyXLを使う。"
   ]
  },
  {
   "cell_type": "markdown",
   "metadata": {},
   "source": [
    "## データベースの読み書き\n",
    "pyodbcを使う。\n",
    "\n",
    "```Python\n",
    "!pip install pyodbc\n",
    "import pyodbc\n",
    "server = 'localhost'\n",
    "port = 3306\n",
    "schema = 'myschema'\n",
    "username = 'tokumaru'\n",
    "password = 'password'\n",
    "dsl = f'DRIVER=\\{MySQL ODBC 5.3 ANSI Driver\\};SERVER={server};PORT={port};DATABASE={schema};UID={username};PWD={password};CHARSET=UTF8;'\n",
    "conn = pyodbc.connect(dsl)\n",
    "cur = conn.cursor()\n",
    "\n",
    "value = 123\n",
    "sql = f'select * from some_table where col_a == {value}'\n",
    "cur.execute(sql)\n",
    "row = cursor.fetchone()\n",
    "while row:\n",
    "    print(row[0])\n",
    "    row = cursor.fetchone()\n",
    "\n",
    "```"
   ]
  },
  {
   "cell_type": "markdown",
   "metadata": {},
   "source": [
    "## 既存ライブラリの利用\n",
    "\n",
    "\n",
    "ライブラリには標準でインストールされているライブラリと、世界中の開発者たちが開発したライブラリがあります。\n",
    "\n",
    "\n",
    "### ライブラリの使い方\n",
    "\n",
    "#### 標準ライブラリ\n",
    "\n",
    "ソースコードの冒頭にて`import`します。\n",
    "```Python\n",
    "import os\n",
    "import glob\n",
    "import shutils\n",
    "```\n",
    "\n",
    "#### 標準以外のライブラリ\n",
    "\n",
    "多くの場合、コマンドプロンプト（Powershellプロンプト・ターミナル）上にて`pip`コマンドを入力することでインストールします。\n",
    "```sh\n",
    "pip install pandas\n",
    "```\n",
    "そのあと、利用するプログラムのソースコードの冒頭にて`import`します。\n",
    "```Python\n",
    "import numpy as np\n",
    "import pandas as pd\n",
    "```\n",
    "\n",
    "Jupyter Notebookの場合は、\n",
    "```Python\n",
    "!pip install pandas\n",
    "import pandas as pd\n",
    "```\n",
    "と、インストールとインポートを同時に実行することができます。\n",
    "\n",
    "### よく使う標準ライブラリ"
   ]
  },
  {
   "cell_type": "markdown",
   "metadata": {},
   "source": [
    "#### os\n",
    "PytonからOSの機能を利用する。ファイル名、環境変数、ディレクトリ操作など機能は多彩だが、一般的な用途においては、ファイル名の操作とディレクトリの操作を覚えておけば支障ない。"
   ]
  },
  {
   "cell_type": "code",
   "execution_count": null,
   "metadata": {},
   "outputs": [],
   "source": [
    "import os\n",
    "\n",
    "# フォルダ・ファイル名を作成する。OSによってフォルダの区切り文字が異なったりするのを吸収してくれる。\n",
    "ROOTDIR = os.getcwd() # 現在のワーキングディレクトリ\n",
    "project_dir = os.path.join(ROOTDIR, '01_Project')\n",
    "filename = os.path.join(project_dir, 'test.py')"
   ]
  },
  {
   "cell_type": "code",
   "execution_count": null,
   "metadata": {},
   "outputs": [],
   "source": [
    "ROOTDIR"
   ]
  },
  {
   "cell_type": "code",
   "execution_count": null,
   "metadata": {},
   "outputs": [],
   "source": [
    "project_dir"
   ]
  },
  {
   "cell_type": "code",
   "execution_count": null,
   "metadata": {},
   "outputs": [],
   "source": [
    "filename"
   ]
  },
  {
   "cell_type": "code",
   "execution_count": null,
   "metadata": {},
   "outputs": [],
   "source": [
    "# フォルダを移動する\n",
    "os.chdir(project_dir)"
   ]
  },
  {
   "cell_type": "code",
   "execution_count": null,
   "metadata": {},
   "outputs": [],
   "source": [
    "# filenameから、ディレクトリを除いたファイル名を取り出す\n",
    "os.path.basename(filename)"
   ]
  },
  {
   "cell_type": "code",
   "execution_count": null,
   "metadata": {},
   "outputs": [],
   "source": [
    "# filenameから、ディレクトリ名を取り出す\n",
    "os.path.dirname(filename)"
   ]
  },
  {
   "cell_type": "markdown",
   "metadata": {},
   "source": [
    "#### glob\n",
    "ワイルドカードでファイルを検索した結果をリストとして返す。"
   ]
  },
  {
   "cell_type": "code",
   "execution_count": null,
   "metadata": {},
   "outputs": [],
   "source": [
    "import glob\n",
    "# 現在のワーキングディレクトリで、「202008xx_????????.csv」という名前のCSVファイルのリスト\n",
    "files = glob.glob('202008??_*.csv')\n",
    "files"
   ]
  },
  {
   "cell_type": "markdown",
   "metadata": {},
   "source": [
    "#### re\n",
    "正規表現による検索や置換を行う。"
   ]
  },
  {
   "cell_type": "code",
   "execution_count": null,
   "metadata": {},
   "outputs": [],
   "source": [
    "import re"
   ]
  },
  {
   "cell_type": "code",
   "execution_count": null,
   "metadata": {},
   "outputs": [],
   "source": [
    "# 検索\n",
    "# 検索対象の文字列\n",
    "s = 'aaa@example.com'\n",
    "\n",
    "# 文字列すべてからパターンに合致した箇所を抽出する\n",
    "# 合致した箇所があったらマッチオブジェクトが返される\n",
    "m = re.search(r'@.+\\.com', s)\n",
    "m"
   ]
  },
  {
   "cell_type": "code",
   "execution_count": null,
   "metadata": {},
   "outputs": [],
   "source": [
    "# マッチオブジェクトから条件に合致した最初の箇所を抽出する\n",
    "m.group()"
   ]
  },
  {
   "cell_type": "code",
   "execution_count": null,
   "metadata": {},
   "outputs": [],
   "source": [
    "# マッチオブジェクトはif文の条件式としても使える\n",
    "# 合致 -> マッチオブジェクト（条件式の中でTrueと判定される値）\n",
    "# 合致しない -> None（条件式の中でFalseと判定される値）\n",
    "if m:\n",
    "    print('match')\n",
    "else:\n",
    "    print('unmatch')"
   ]
  },
  {
   "cell_type": "code",
   "execution_count": null,
   "metadata": {},
   "outputs": [],
   "source": [
    "# 置換\n",
    "# 正規表現にマッチした部分文字列を置換する\n",
    "re.sub(r'@.+\\.com', '@example2.com', s)"
   ]
  },
  {
   "cell_type": "markdown",
   "metadata": {},
   "source": [
    "#### datetime\n",
    "日付を扱うライブラリ。"
   ]
  },
  {
   "cell_type": "markdown",
   "metadata": {},
   "source": [
    "#### timedelta\n",
    "経過時間（2つの日付を引き算した結果）を扱う。\n",
    "日単位以下を扱う。"
   ]
  },
  {
   "cell_type": "code",
   "execution_count": null,
   "metadata": {},
   "outputs": [],
   "source": [
    "from datetime import date, datetime, timedelta\n",
    "date1 = datetime(2020, 9, 1,  9, 0, 0)\n",
    "date2 = datetime(2020, 9, 7, 18, 0, 0)\n",
    "delta = date2 - date1\n",
    "print(date1, date2, delta)"
   ]
  },
  {
   "cell_type": "code",
   "execution_count": null,
   "metadata": {},
   "outputs": [],
   "source": [
    "# days, seconds, microsecondsでそれぞれの値だけ取り出せる\n",
    "delta.days, delta.seconds, delta.microseconds"
   ]
  },
  {
   "cell_type": "code",
   "execution_count": null,
   "metadata": {},
   "outputs": [],
   "source": [
    "# どんなに日付が離れていても、日単位以下でしか表現できない。\n",
    "date1 = datetime(2008, 1,  1,  0,  0,  0)\n",
    "date2 = datetime.now()\n",
    "delta = date2 - date1\n",
    "delta"
   ]
  },
  {
   "cell_type": "markdown",
   "metadata": {},
   "source": [
    "#### relativedelta\n",
    "経過時間（2つの日付を引き算した結果）を扱う。\n",
    "こちらは月・年単位まで扱える。"
   ]
  },
  {
   "cell_type": "code",
   "execution_count": null,
   "metadata": {},
   "outputs": [],
   "source": [
    "!pip install python-dateutil\n",
    "from dateutil.relativedelta import relativedelta\n",
    "date1 = datetime(2008, 1,  1,  0,  0,  0)\n",
    "date2 = datetime.now()\n",
    "delta = relativedelta(date2, date1)\n",
    "delta"
   ]
  },
  {
   "cell_type": "code",
   "execution_count": null,
   "metadata": {},
   "outputs": [],
   "source": [
    "delta.years, delta.months, delta.days, delta.hours, delta.minutes, delta.microseconds"
   ]
  },
  {
   "cell_type": "markdown",
   "metadata": {},
   "source": [
    "#### 日付の足し算、引き算"
   ]
  },
  {
   "cell_type": "code",
   "execution_count": null,
   "metadata": {},
   "outputs": [],
   "source": [
    "# timedeltaでも同様のことができる\n",
    "delta = relativedelta(years=1, months=3, days=12, hours=6, minutes=35)"
   ]
  },
  {
   "cell_type": "code",
   "execution_count": null,
   "metadata": {},
   "outputs": [],
   "source": [
    "# delta経過後の日付時刻\n",
    "datetime.now() + delta"
   ]
  },
  {
   "cell_type": "code",
   "execution_count": null,
   "metadata": {},
   "outputs": [],
   "source": [
    "# delta前の日付時刻\n",
    "datetime.now() - delta"
   ]
  },
  {
   "cell_type": "code",
   "execution_count": null,
   "metadata": {},
   "outputs": [],
   "source": [
    "# 前月1日\n",
    "(datetime.now() - relativedelta(months=1)).replace(day=1, hour=0, minute=0, second=0, microsecond=0)"
   ]
  },
  {
   "cell_type": "code",
   "execution_count": null,
   "metadata": {},
   "outputs": [],
   "source": [
    "# 前月末日\n",
    "datetime.now().replace(day=1, hour=0, minute=0, second=0, microsecond=0) - relativedelta(seconds=1)"
   ]
  },
  {
   "cell_type": "markdown",
   "metadata": {},
   "source": [
    "### 標準じゃないけどよく使うライブラリ\n",
    "\n",
    "名前 | 概要\n",
    "-- | --\n",
    "yaml | YAMLファイルを解釈する\n",
    "requests | HTTPにてサーバーとデータをやり取りする\n",
    "BeautifulSoup | HTMLを解釈して部品から値を取りだす\n",
    "Jinja2 | テンプレートに値を入れ込む\n",
    "argparse | コマンドラインの引数を解釈する\n",
    "boto3 | AWSの機能をPythonから利用する"
   ]
  },
  {
   "cell_type": "markdown",
   "metadata": {},
   "source": [
    "## Pandas\n",
    "データ解析用のライブラリ。表形式のDataFrameを利用して、データの読み書き、統計量の算出、整形、抽出、集計などなどデータ分析に必要な処理を行うことができる。\n",
    "Pythonでデータ解析を行うなら必須。"
   ]
  },
  {
   "cell_type": "markdown",
   "metadata": {},
   "source": [
    "### インストール"
   ]
  },
  {
   "cell_type": "code",
   "execution_count": null,
   "metadata": {},
   "outputs": [],
   "source": [
    "!pip install pandas\n",
    "import pandas as pd"
   ]
  },
  {
   "cell_type": "markdown",
   "metadata": {},
   "source": [
    "### データを読み込む"
   ]
  },
  {
   "cell_type": "markdown",
   "metadata": {},
   "source": [
    "#### CSV\n",
    "もっとも簡単な例：\n",
    "```Python\n",
    "df = pd.read_csv(filename)\n",
    "```\n",
    "\n",
    "CSVの内容を正しくロードしたい場合は、\n",
    "* encoding（文字コード）\n",
    "* names（カラム名定義）\n",
    "* dtype（カラムの型定義）\n",
    "* header（ヘッダーをカラム名に割り当てる）\n",
    "を正しく設定する必要がある。\n",
    "\n",
    "CSVの内容をすべて文字列としてロードする場合\n",
    "```Python\n",
    "names_customer = ['customer_no', 'customer_name', 'birthday', 'sex', 'enter_date', 'member_cls', 'email_grant']\n",
    "dtype_customer = 'str'\n",
    "df_customer = pd.read_csv(filename_customer, encoding='utf-8', names=names_customer, dtype=dtype_customer, header=None)\n",
    "```\n",
    "\n",
    "それぞれのカラムの内容に応じた型を定義する場合\n",
    "```Python\n",
    "names_purchase = ['customer_no', 'purchase_date', 'JAN', 'product_name', 'quantity', 'amount']\n",
    "dtype_purchase = {'customer_no': 'str', 'purchase_date': 'str', 'JAN': 'str', 'product_name': 'str', 'quantity': 'int', 'amount': 'int'}\n",
    "df_purchase = pd.read_csv(filename_purchase, encoding='cp932', names=names_purchase, dtype=dtype_purchase, header=0)\n",
    "```"
   ]
  },
  {
   "cell_type": "markdown",
   "metadata": {},
   "source": [
    "#### エクセルファイル\n",
    "エクセルの表形式のデータを読みこむことができる。\n",
    "```Python\n",
    "names_excel = ['customer_no', 'date', 'sent', 'purchased']\n",
    "dtype_excel = {'customer_no': 'str', 'date': 'str', 'sent': 'int', 'purchased': 'int'}\n",
    "usecols = [0, 1, 3, 5] # 読み込むカラム番号を指定する。0始まりであることに注意。\n",
    "skiprows = [0, 1, 2, 3, 4] # 読み込まない行番号を指定する。0始まりであることに注意。\n",
    "skiprows = range(5) # 先頭5行を無視する場合\n",
    "df_excel = pd.read_excel(filename, sheetname, names=names_excel, dtype=dtype_excel, skiprows=skiprows, usecols=usecols)\n",
    "```"
   ]
  },
  {
   "cell_type": "markdown",
   "metadata": {},
   "source": [
    "### 抽出する\n",
    "#### 行の抽出\n",
    "抽出したい行番号（0始まり）を指定する。\n",
    "```Python\n",
    "df[1:3]\n",
    "```\n",
    "\n",
    "#### カラム\n",
    "抽出したいカラム名を指定する。\n",
    "```Python\n",
    "df[['colA', 'colC', 'colD']]\n",
    "```\n",
    "\n",
    "#### 条件を指定する\n",
    "いろいろな方法があるが、たぶんこれが一番楽。\n",
    "```Python\n",
    "df.query('colA == 1234 and colB == \"ABC\" and 100 < colC <= 220')\n",
    "```\n",
    "\n",
    "query()の中身は文字列で指定。f文字列でもOK。\n",
    "```Python\n",
    "a = 1000 + 234\n",
    "b = \"ABC\"\n",
    "c = 100\n",
    "d = do_some_complex_culculation()\n",
    "df.query(f'colA == {a} and colB == \"{b}\" and {c} < colC <= {d}')\n",
    "```"
   ]
  },
  {
   "cell_type": "markdown",
   "metadata": {},
   "source": [
    "### 集計する\n",
    "会員番号別に売上（列名:amountとする）を合計\n",
    "```Python\n",
    "df.groupby('customer_no').amount.sum()\n",
    "```\n",
    "\n",
    "会員番号別・月別に合計・平均など複雑な集計を行う\n",
    "```Python\n",
    "df.groupby(['customer_no', 'month']).agg({'amount': 'sum', 'purchase_date': 'max', 'purchase_date': 'count'})\n",
    "```"
   ]
  },
  {
   "cell_type": "markdown",
   "metadata": {},
   "source": [
    "### ファイルに出力する"
   ]
  },
  {
   "cell_type": "markdown",
   "metadata": {},
   "source": [
    "#### CSV\n",
    "* encoding: デフォルトはutf-8\n",
    "* header: ヘッダー行の出力\n",
    "* index: インデックスの出力\n",
    "```Python\n",
    "df.to_csv(filename, encoding='cp932', header=True, index=False)\n",
    "```"
   ]
  },
  {
   "cell_type": "markdown",
   "metadata": {},
   "source": [
    "#### エクセルファイル\n",
    "\n",
    "```Python\n",
    "df.to_excel(filename, header=True, index=False)\n",
    "```"
   ]
  },
  {
   "cell_type": "markdown",
   "metadata": {},
   "source": [
    "## 言語の仕様や変数の内容（型・値など）を調査する方法\n",
    "### 言語の仕様\n",
    "* 公式ドキュメント\n",
    "    * Python公式: https://docs.python.org/3/\n",
    "    * Pandas公式: https://pandas.pydata.org/docs/index.html\n",
    "* 情報サイト\n",
    "    * Pythonに関する情報: https://note.nkmk.me/python/\n",
    "    * Qiita: https://qiita.com/tags/python\n",
    "\n",
    "ざっと使い方を知りたい場合は情報サイトを参照してもいいが、\n",
    "正確な仕様を確認するときは公式ドキュメントに当たること。"
   ]
  },
  {
   "cell_type": "markdown",
   "metadata": {},
   "source": [
    "### 変数の中身を調べる\n",
    "型が違うとか怒られたときはこんな感じで調べたりするとよい。"
   ]
  },
  {
   "cell_type": "code",
   "execution_count": null,
   "metadata": {},
   "outputs": [],
   "source": [
    "a = 'Hello'\n",
    "type(a)"
   ]
  },
  {
   "cell_type": "code",
   "execution_count": null,
   "metadata": {},
   "outputs": [],
   "source": [
    "b = [ord(i) for i in a]\n",
    "print([type(i) for i in b])"
   ]
  },
  {
   "cell_type": "markdown",
   "metadata": {},
   "source": [
    "## 一歩進んだ記法\n",
    "関数型プログラミングの要素を取り込んだ書き方や、より簡潔な書き方を紹介する。\n",
    "Pythonプログラミングに慣れてきて、より効率的な書き方を知りたくなったときに参照して頂きたい。"
   ]
  },
  {
   "cell_type": "markdown",
   "metadata": {},
   "source": [
    "### 内包表記\n",
    "リストなどを数学的な定義のように表記できる。\n",
    "\n",
    "だいたいの場合for文より処理が速いので、積極的に使っていくと良い。\n",
    "\n",
    "たとえば、0以上100未満の整数$x$を2倍した整数の集合\n",
    "$$\n",
    "    S = \\{2 \\cdot x | x \\in Z, 0 \\leqq x < 100 \\}\n",
    "$$\n",
    "を定義する場合、for文を使うなら以下のようになる。"
   ]
  },
  {
   "cell_type": "code",
   "execution_count": null,
   "metadata": {},
   "outputs": [],
   "source": [
    "even_list = []\n",
    "for x in range(100):\n",
    "    even_list.append(x * 2)\n",
    "even_list"
   ]
  },
  {
   "cell_type": "markdown",
   "metadata": {},
   "source": [
    "内包表記を利用すると次のようになる。"
   ]
  },
  {
   "cell_type": "code",
   "execution_count": null,
   "metadata": {},
   "outputs": [],
   "source": [
    "even_list = [x * 2 for x in range(100)]\n",
    "even_list"
   ]
  },
  {
   "cell_type": "markdown",
   "metadata": {},
   "source": [
    "内包表記の基本的な構文は以下の通り。\n",
    "```Python\n",
    "[ 式 for カウンター変数 in 生成元のリスト（など）  if 条件式 ]\n",
    "```\n",
    "\n",
    "* 式はカウンター変数に対して処理したい式\n",
    "* カウンター変数は生成元リストの各要素\n",
    "* 生成元のリスト（など）には、リストだけでなく、rangeオブジェクトやmapオブジェクトなどのiterable objectが利用可能\n",
    "    * 最初のうちは、range()とリストが使える、と覚えておけばだいたいOK\n",
    "\n",
    "`if`以下は元リストから条件付けて絞り込みたい場合のみ使う。条件はカウンター変数を用いて記述する。\n",
    "\n",
    "次のような手順で作成、ステップごとに実行して出力を確認しながら書いていくと間違えにくい。 "
   ]
  },
  {
   "cell_type": "markdown",
   "metadata": {},
   "source": [
    "1. 元リストをそのまま返す"
   ]
  },
  {
   "cell_type": "code",
   "execution_count": null,
   "metadata": {},
   "outputs": [],
   "source": [
    "[i for i in range(10)]"
   ]
  },
  {
   "cell_type": "markdown",
   "metadata": {},
   "source": [
    "2. 生成元リストからの抽出条件があれば追加する。"
   ]
  },
  {
   "cell_type": "code",
   "execution_count": null,
   "metadata": {},
   "outputs": [],
   "source": [
    "[i for i in range(10) if i % 2 == 0]"
   ]
  },
  {
   "cell_type": "markdown",
   "metadata": {},
   "source": [
    "3. リストの各要素に対して必要な処理を追加する。"
   ]
  },
  {
   "cell_type": "code",
   "execution_count": null,
   "metadata": {},
   "outputs": [],
   "source": [
    "[(i * 5 - 1) ** 3 for i in range(10) if i % 2 == 0]"
   ]
  },
  {
   "cell_type": "markdown",
   "metadata": {},
   "source": [
    "#### リストの要素とそのインデックスをまとめて処理したい場合\n",
    "```Python\n",
    "enumerate([リスト])\n",
    "```\n",
    "を使うと良い。"
   ]
  },
  {
   "cell_type": "code",
   "execution_count": null,
   "metadata": {},
   "outputs": [],
   "source": [
    "[f'{i} {v}' for i,v  in enumerate(['Aleph', 'Beth', 'Gimel', 'Daleth'])]"
   ]
  },
  {
   "cell_type": "markdown",
   "metadata": {},
   "source": [
    "### 関数型プログラミングの要素を利用した記法\n",
    "Pythonでは、関数を引数として取り、関数を返す関数を利用できる。このような関数を「高階関数」という。\n",
    "\n",
    "全体的な構造は同じだが適用する関数が異なる処理を共通化できる。\n",
    "\n",
    "代表的なのは`map()`, `filter()`, `reduce()`"
   ]
  },
  {
   "cell_type": "markdown",
   "metadata": {},
   "source": [
    "#### map\n",
    "```Python\n",
    "map(func, iterable)\n",
    "```\n",
    "リストの各要素に対して`func`で指定した関数を適用したマップオブジェクトを返す。\n",
    "\n",
    "※返ってくるのはリストではなくマップオブジェクト。リストがほしいとき（がほとんどだが）はlist()関数をさらにかぶせる必要がある。"
   ]
  },
  {
   "cell_type": "markdown",
   "metadata": {},
   "source": [
    "文字のリスト`['1', '2', '3', '4', '5', '6']`の各要素に対してint()関数（文字列を数値に変換する関数）を適用する。"
   ]
  },
  {
   "cell_type": "code",
   "execution_count": null,
   "metadata": {},
   "outputs": [],
   "source": [
    "map(int, ['1', '2', '3', '4', '5', '6'])"
   ]
  },
  {
   "cell_type": "code",
   "execution_count": null,
   "metadata": {},
   "outputs": [],
   "source": [
    "list(map(int, ['1', '2', '3', '4', '5', '6']))"
   ]
  },
  {
   "cell_type": "markdown",
   "metadata": {},
   "source": [
    "#### filter\n",
    "```Python\n",
    "filter(func, iterable)\n",
    "```\n",
    "リストから特定の条件を満たす要素を抽出する。\n",
    "\n",
    "引数として、リストなどのiterableオブジェクトと、条件を判定する関数（iterableの要素の1つを取り、判定の結果（True-False）を返す）を取る。\n",
    "\n",
    "※これも返ってくるのはマップオブジェクト。"
   ]
  },
  {
   "cell_type": "code",
   "execution_count": null,
   "metadata": {},
   "outputs": [],
   "source": [
    "def is_even(x):\n",
    "    return x % 2 == 0\n",
    "m = filter(is_even, [1,2,3,4,5,6])\n",
    "list(m)"
   ]
  },
  {
   "cell_type": "markdown",
   "metadata": {},
   "source": [
    "#### reduce\n",
    "```Python\n",
    "from functools import reduce\n",
    "reduce(func, iterable, initializer)\n",
    "```\n",
    "リストに何かしらの演算を施して1つの値を算出する関数。畳み込み（folding, convolution）とも呼ばれる。\n",
    "\n",
    "initializer（初期値）は省略可。省略された場合は、リストの最初の要素が初期値になる。"
   ]
  },
  {
   "cell_type": "code",
   "execution_count": null,
   "metadata": {},
   "outputs": [],
   "source": [
    "from functools import reduce\n",
    "from operator import add # 足し算\n",
    "from operator import sub # 引き算\n",
    "from operator import mul # 掛け算"
   ]
  },
  {
   "cell_type": "code",
   "execution_count": null,
   "metadata": {},
   "outputs": [],
   "source": [
    "reduce(add, [20, 3, 4, 5]) # -> 20 + 3 + 4 + 5"
   ]
  },
  {
   "cell_type": "code",
   "execution_count": null,
   "metadata": {},
   "outputs": [],
   "source": [
    "# 単に集計したいだけならsumで十分。\n",
    "sum([20, 3, 4, 5])"
   ]
  },
  {
   "cell_type": "code",
   "execution_count": null,
   "metadata": {},
   "outputs": [],
   "source": [
    "reduce(sub, [20, 3, 4, 5]) # -> 20 - 3 - 4 - 5"
   ]
  },
  {
   "cell_type": "code",
   "execution_count": null,
   "metadata": {},
   "outputs": [],
   "source": [
    "reduce(sub, [1, 2, 3, 4, 5], 100) # -> 100 - 1 - 2 - 3 - 4 - 5"
   ]
  },
  {
   "cell_type": "code",
   "execution_count": null,
   "metadata": {},
   "outputs": [],
   "source": [
    "reduce(mul, [20, 3, 4, 5]) # -> 20 * 3 * 4 * 5"
   ]
  },
  {
   "cell_type": "markdown",
   "metadata": {},
   "source": [
    "#### lambda（無名関数）\n",
    "関数の定義のための記法の1つ。\n",
    "無名の関数が定義できる。\n",
    "前述の高階関数と共に使うと記述がすっきりしてわかりやすくなる。\n",
    "\n",
    "```Python\n",
    "lambda 引数: 処理\n",
    "```\n",
    "は、以下と同じ処理になる。\n",
    "```Python\n",
    "def func(引数):\n",
    "    処理\n",
    "```"
   ]
  },
  {
   "cell_type": "code",
   "execution_count": null,
   "metadata": {},
   "outputs": [],
   "source": [
    "a = [1,2,3,4,5,6,7]\n",
    "def is_even(x):\n",
    "    return x % 2 == 0\n",
    "\n",
    "list(map(is_even, a))"
   ]
  },
  {
   "cell_type": "code",
   "execution_count": null,
   "metadata": {},
   "outputs": [],
   "source": [
    "list(map(lambda x: x % 2 == 0, a))"
   ]
  },
  {
   "cell_type": "code",
   "execution_count": null,
   "metadata": {},
   "outputs": [],
   "source": [
    "list(filter(lambda x: x % 2 == 0, a))"
   ]
  },
  {
   "cell_type": "code",
   "execution_count": null,
   "metadata": {},
   "outputs": [],
   "source": [
    "reduce(lambda x, y: 2 * x + 3 * y, a)"
   ]
  },
  {
   "cell_type": "code",
   "execution_count": null,
   "metadata": {},
   "outputs": [],
   "source": [
    "reduce(lambda x, y: x + y if x < y else x - y, a)"
   ]
  },
  {
   "cell_type": "markdown",
   "metadata": {},
   "source": [
    "このように、map()関数にてちょっとした処理を行いたい、他の場面で使い回す予定のない関数を定義したい場合に便利。"
   ]
  },
  {
   "cell_type": "markdown",
   "metadata": {},
   "source": [
    "### 関数の早期リターン\n",
    "関数を書いているとき、if文のネストが深くなって読みづらくなる場合がよくあります。\n",
    "\n",
    "その際は、返却値が確定した時点でさっさとリターンしてしまうのが良いです。\n",
    "\n",
    "リターンしてしまったケースについてはそれ以上考える必要がなくなるので、頭のメモリ容量も節約できます。\n",
    "\n",
    "おおよその目安として、ネストが3段以上になったら実装を考え直しましょう。"
   ]
  },
  {
   "cell_type": "code",
   "execution_count": null,
   "metadata": {},
   "outputs": [],
   "source": [
    "# 入力のバリデーションが何重にも入れ子になって読みづらくなったパターン\n",
    "def is_even(i):\n",
    "    if (i is not None):\n",
    "        if (type(i) == 'int'):\n",
    "            if i % 2 == 0:\n",
    "                return True\n",
    "            else:\n",
    "                return False\n",
    "        else:\n",
    "            return False\n",
    "    else:\n",
    "        return False"
   ]
  },
  {
   "cell_type": "code",
   "execution_count": null,
   "metadata": {},
   "outputs": [],
   "source": [
    "# 異常値が入力されたパターンを早期リターンで考慮から外すことで本筋の処理に集中できる。\n",
    "def is_even(i):\n",
    "    if (i is None):\n",
    "        return False\n",
    "    if (type(i) != 'int'):\n",
    "        return False\n",
    "\n",
    "    if i % 2 == 0:\n",
    "        return True\n",
    "    else:\n",
    "        return False"
   ]
  },
  {
   "cell_type": "code",
   "execution_count": null,
   "metadata": {},
   "outputs": [],
   "source": [
    "# 本筋の処理はもっと簡潔に書ける\n",
    "def is_even(i):\n",
    "    if (i is None):\n",
    "        return False\n",
    "    if (type(i) != 'int'):\n",
    "        return False\n",
    "\n",
    "    return i % 2 == 0"
   ]
  }
 ],
 "metadata": {
  "kernelspec": {
   "display_name": "Python 3",
   "language": "python",
   "name": "python3"
  },
  "language_info": {
   "codemirror_mode": {
    "name": "ipython",
    "version": 3
   },
   "file_extension": ".py",
   "mimetype": "text/x-python",
   "name": "python",
   "nbconvert_exporter": "python",
   "pygments_lexer": "ipython3",
   "version": "3.7.6"
  }
 },
 "nbformat": 4,
 "nbformat_minor": 4
}
