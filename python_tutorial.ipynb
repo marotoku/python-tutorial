{
 "cells": [
  {
   "cell_type": "markdown",
   "metadata": {},
   "source": [
    "# データサイエンス100本ノックを始める前に --Python基礎--\n",
    "\n",
    "## データサイエンス100本ノックを始める前に、最低限把握しておくべきPythonの基礎を身に着ける。"
   ]
  },
  {
   "cell_type": "markdown",
   "metadata": {},
   "source": [
    "### Jupyter Notebookの使い方\n",
    "セルに実行したい文を入力して、Ctrl+Enterで実行する。\n",
    "実行した結果（1セルに複数の文があるときは最後の結果）がすぐ下に表示される。"
   ]
  },
  {
   "cell_type": "code",
   "execution_count": null,
   "metadata": {},
   "outputs": [],
   "source": [
    "'Hello, World'"
   ]
  },
  {
   "cell_type": "code",
   "execution_count": null,
   "metadata": {},
   "outputs": [],
   "source": [
    "'Hello, World'\n",
    "'Hello, Python'"
   ]
  },
  {
   "cell_type": "markdown",
   "metadata": {},
   "source": [
    "### 標準出力に表示\n",
    "コンソールに出力する際は`print()`関数を使う。"
   ]
  },
  {
   "cell_type": "code",
   "execution_count": null,
   "metadata": {},
   "outputs": [],
   "source": [
    "print('Hello, World')"
   ]
  },
  {
   "cell_type": "markdown",
   "metadata": {},
   "source": [
    "### Pythonの代表的なデータ型\n",
    "* 数値（整数、浮動小数点数）\n",
    "* 文字列\n",
    "* リスト\n",
    "* タプル\n",
    "* 辞書（連想配列）"
   ]
  },
  {
   "cell_type": "markdown",
   "metadata": {},
   "source": [
    "#### 数値\n",
    "数値と式は素直な方。"
   ]
  },
  {
   "cell_type": "code",
   "execution_count": null,
   "metadata": {},
   "outputs": [],
   "source": [
    "2 + 2"
   ]
  },
  {
   "cell_type": "code",
   "execution_count": null,
   "metadata": {},
   "outputs": [],
   "source": [
    "50 - 5 * 6"
   ]
  },
  {
   "cell_type": "code",
   "execution_count": null,
   "metadata": {},
   "outputs": [],
   "source": [
    "# 乗算・除算が加算・減算より優先される\n",
    "50 - 5 * 6 / 4"
   ]
  },
  {
   "cell_type": "code",
   "execution_count": null,
   "metadata": {},
   "outputs": [],
   "source": [
    "# カッコでくくって演算の優先順位を変更する\n",
    "(50 - 5 * 6) / 4"
   ]
  },
  {
   "cell_type": "code",
   "execution_count": null,
   "metadata": {},
   "outputs": [],
   "source": [
    "# 除算の結果、浮動小数点数が返ってくることに注意\n",
    "17 / 3"
   ]
  },
  {
   "cell_type": "code",
   "execution_count": null,
   "metadata": {},
   "outputs": [],
   "source": [
    "# 除算の商（整数部）\n",
    "17 // 3"
   ]
  },
  {
   "cell_type": "code",
   "execution_count": null,
   "metadata": {},
   "outputs": [],
   "source": [
    "# 剰余\n",
    "17 % 3"
   ]
  },
  {
   "cell_type": "code",
   "execution_count": null,
   "metadata": {},
   "outputs": [],
   "source": [
    "# 整数と浮動小数点数が混在する場合、整数は浮動小数点数に変換される\n",
    "4 * 3.75 - 1"
   ]
  },
  {
   "cell_type": "code",
   "execution_count": null,
   "metadata": {},
   "outputs": [],
   "source": [
    "# べき乗\n",
    "5 ** 2"
   ]
  },
  {
   "cell_type": "markdown",
   "metadata": {},
   "source": [
    "#### 文字列\n",
    "「'」か「\"」でくくる。どちらでも意味は違いないので好きな方を使うと良い。\n",
    "ただし、プログラムの中でどちらを使うか統一しておいたほうが良い。"
   ]
  },
  {
   "cell_type": "code",
   "execution_count": null,
   "metadata": {},
   "outputs": [],
   "source": [
    "'Hello, World'"
   ]
  },
  {
   "cell_type": "code",
   "execution_count": null,
   "metadata": {},
   "outputs": [],
   "source": [
    "'日本語も使えます'"
   ]
  },
  {
   "cell_type": "code",
   "execution_count": null,
   "metadata": {},
   "outputs": [],
   "source": [
    "print('\"ダブルクォートを文字として使う場合\"')"
   ]
  },
  {
   "cell_type": "code",
   "execution_count": null,
   "metadata": {},
   "outputs": [],
   "source": [
    "print(\"'逆にシングルクォートを文字として使う'\")"
   ]
  },
  {
   "cell_type": "code",
   "execution_count": null,
   "metadata": {},
   "outputs": [],
   "source": [
    "# 改行を含む文字列は「\"\"\"」で囲う\n",
    "\"\"\"終わりは近い。\n",
    "ドアのところで音が聞こえる。\n",
    "何かぬめぬめした巨体が、ドアにぶつかっているような音だ。\n",
    "見つかりはすまい。\n",
    "神よ、あの手が！窓に！窓に！\n",
    "\"\"\""
   ]
  },
  {
   "cell_type": "markdown",
   "metadata": {},
   "source": [
    "#### 文字列の連結・反復\n",
    "「+」で連結、「*」で反復"
   ]
  },
  {
   "cell_type": "code",
   "execution_count": null,
   "metadata": {},
   "outputs": [],
   "source": [
    "'Hello' + 'World'"
   ]
  },
  {
   "cell_type": "code",
   "execution_count": null,
   "metadata": {},
   "outputs": [],
   "source": [
    "# 連続して並んでいる複数の文字列リテラル（「'」でくくられたやつ）は自動的に連結される\n",
    "'Hello''World'"
   ]
  },
  {
   "cell_type": "code",
   "execution_count": null,
   "metadata": {},
   "outputs": [],
   "source": [
    "'Hello' * 3"
   ]
  },
  {
   "cell_type": "markdown",
   "metadata": {},
   "source": [
    "#### 接頭辞\n",
    "文字列の先頭（クォーテーションの前）に特定の記号を付与して、特別な意味を付与することができる。\n",
    "* r: 生文字列。「\\」を直接書ける。正規表現やWindowsのフォルダ名を表現する際などよく使う。\n",
    "* f: フォーマット済み文字列（f-string）。Python3.6以降にて利用可能。めちゃ便利。\n",
    "* b: バイト列。あまり使わない。システムプログラミング系では使う場面もあるかも。"
   ]
  },
  {
   "cell_type": "code",
   "execution_count": null,
   "metadata": {},
   "outputs": [],
   "source": [
    "r'C:\\Users\\tokumaru\\Documents\\himitu'"
   ]
  },
  {
   "cell_type": "code",
   "execution_count": null,
   "metadata": {},
   "outputs": [],
   "source": [
    "r'^\\d.+'"
   ]
  },
  {
   "cell_type": "code",
   "execution_count": null,
   "metadata": {},
   "outputs": [],
   "source": [
    "name = 'tokumaru'\n",
    "f'Hello, {name}'"
   ]
  },
  {
   "cell_type": "markdown",
   "metadata": {},
   "source": [
    "### リスト\n",
    "複数のデータを[]で囲んでひとまとめにしたもの。配列っぽいものと思っておけばひとまずOK。\n",
    "同じ型の要素をひとまとめにするときに使う。\n",
    "まあ別の型の要素を混ぜても怒られないけど…"
   ]
  },
  {
   "cell_type": "code",
   "execution_count": null,
   "metadata": {},
   "outputs": [],
   "source": [
    "l = [1, 2, 3, 4, 5, 6, 7]"
   ]
  },
  {
   "cell_type": "code",
   "execution_count": null,
   "metadata": {},
   "outputs": [],
   "source": [
    "l"
   ]
  },
  {
   "cell_type": "markdown",
   "metadata": {},
   "source": [
    "#### リストのスライス\n",
    "リストの要素を指定して抽出する。0はじまりであること注意。\n",
    "```Python\n",
    "[ 開始位置 : 終了位置 : 増分]\n",
    "```\n",
    "開始位置：自身は含まれる。\n",
    "\n",
    "終了位置：自身は含まれない。省略可能。指定しなかったら最後まで。\n",
    "\n",
    "増分：何個おきに拾うか。省略可能。"
   ]
  },
  {
   "cell_type": "code",
   "execution_count": null,
   "metadata": {},
   "outputs": [],
   "source": [
    "# 指定の要素を1つだけ抽出する\n",
    "l[0]"
   ]
  },
  {
   "cell_type": "markdown",
   "metadata": {},
   "source": [
    "-1番目の要素は最後の要素。"
   ]
  },
  {
   "cell_type": "code",
   "execution_count": null,
   "metadata": {},
   "outputs": [],
   "source": [
    "l[-1]"
   ]
  },
  {
   "cell_type": "code",
   "execution_count": null,
   "metadata": {},
   "outputs": [],
   "source": [
    "l[1:5:]"
   ]
  },
  {
   "cell_type": "code",
   "execution_count": null,
   "metadata": {},
   "outputs": [],
   "source": [
    "l[::3]"
   ]
  },
  {
   "cell_type": "code",
   "execution_count": null,
   "metadata": {},
   "outputs": [],
   "source": [
    "l[1:5:2]"
   ]
  },
  {
   "cell_type": "markdown",
   "metadata": {},
   "source": [
    "範囲外を指定した場合は空のリストが返る。"
   ]
  },
  {
   "cell_type": "code",
   "execution_count": null,
   "metadata": {},
   "outputs": [],
   "source": [
    "l[100:200:300]"
   ]
  },
  {
   "cell_type": "markdown",
   "metadata": {},
   "source": [
    "#### 連続する数値を生成する\n",
    "```Python\n",
    "range(start, end, step)\n",
    "```\n",
    "start: 開始位置。自身を含む。\n",
    "\n",
    "end: 終了位置。自身を含まない。\n",
    "\n",
    "step: 増分。"
   ]
  },
  {
   "cell_type": "code",
   "execution_count": null,
   "metadata": {},
   "outputs": [],
   "source": [
    "list(range(10))"
   ]
  },
  {
   "cell_type": "code",
   "execution_count": null,
   "metadata": {},
   "outputs": [],
   "source": [
    "list(range(1, 11, 2))"
   ]
  },
  {
   "cell_type": "markdown",
   "metadata": {},
   "source": [
    "### 文字列をリストとして扱う\n",
    "文字列は文字のリストとして扱うことができる。スライスを使って特定位置の文字（列）を抽出できる。"
   ]
  },
  {
   "cell_type": "code",
   "execution_count": null,
   "metadata": {},
   "outputs": [],
   "source": [
    "sample = 'This is sample text.'"
   ]
  },
  {
   "cell_type": "code",
   "execution_count": null,
   "metadata": {},
   "outputs": [],
   "source": [
    "sample[0:9:2]"
   ]
  },
  {
   "cell_type": "code",
   "execution_count": null,
   "metadata": {},
   "outputs": [],
   "source": [
    "yyyymmdd = '20200828'"
   ]
  },
  {
   "cell_type": "code",
   "execution_count": null,
   "metadata": {},
   "outputs": [],
   "source": [
    "yyyymmdd[0:4]"
   ]
  },
  {
   "cell_type": "code",
   "execution_count": null,
   "metadata": {},
   "outputs": [],
   "source": [
    "yyyymmdd[4:6]"
   ]
  },
  {
   "cell_type": "code",
   "execution_count": null,
   "metadata": {},
   "outputs": [],
   "source": [
    "yyyymmdd[6:8]"
   ]
  },
  {
   "cell_type": "code",
   "execution_count": null,
   "metadata": {},
   "outputs": [],
   "source": [
    "# 文字列の各桁をばらして整数に変換\n",
    "list(map(int, '20200828'))"
   ]
  },
  {
   "cell_type": "markdown",
   "metadata": {},
   "source": [
    "### タプル\n",
    "それぞれ別の型のデータをひとまとめにして扱う。「(」「)」でくくる。ひとまとめにして意味のあるデータ（たとえば個人の属性情報とか）をまとめるのに使うことが多い。\n",
    "\n",
    "タプルの要素は変更不可。"
   ]
  },
  {
   "cell_type": "code",
   "execution_count": null,
   "metadata": {},
   "outputs": [],
   "source": [
    "('Taro', 'male', 22)"
   ]
  },
  {
   "cell_type": "markdown",
   "metadata": {},
   "source": [
    "リストと同じように要素を抽出できる"
   ]
  },
  {
   "cell_type": "code",
   "execution_count": null,
   "metadata": {},
   "outputs": [],
   "source": [
    "('Taro', 'male', 22)[1]"
   ]
  },
  {
   "cell_type": "markdown",
   "metadata": {},
   "source": [
    "タプルの要素は変更不可"
   ]
  },
  {
   "cell_type": "code",
   "execution_count": null,
   "metadata": {},
   "outputs": [],
   "source": [
    "t = ('Taro', 'male', 22)\n",
    "t[0] = 'Jiro'"
   ]
  },
  {
   "cell_type": "markdown",
   "metadata": {},
   "source": [
    "タプルの各要素を分割して取り出す"
   ]
  },
  {
   "cell_type": "code",
   "execution_count": null,
   "metadata": {},
   "outputs": [],
   "source": [
    "name, sex, age = ('Taro', 'male', 22)"
   ]
  },
  {
   "cell_type": "markdown",
   "metadata": {},
   "source": [
    "#### タプルのリスト"
   ]
  },
  {
   "cell_type": "code",
   "execution_count": null,
   "metadata": {},
   "outputs": [],
   "source": [
    "[\n",
    "    ('Taro', 'male', 22),\n",
    "    ('Hanako', 'female', 34)\n",
    "]"
   ]
  },
  {
   "cell_type": "markdown",
   "metadata": {},
   "source": [
    "### 辞書\n",
    "VBAで連想配列と呼ばれているやつ。「キー」と「値」の組の列挙を「{」「}」でくくる。"
   ]
  },
  {
   "cell_type": "code",
   "execution_count": null,
   "metadata": {},
   "outputs": [],
   "source": [
    "taro = {'name': 'Taro', 'sex': 'male', 'age': 22}"
   ]
  },
  {
   "cell_type": "markdown",
   "metadata": {},
   "source": [
    "各要素はキーで指定して取り出す"
   ]
  },
  {
   "cell_type": "code",
   "execution_count": null,
   "metadata": {},
   "outputs": [],
   "source": [
    "taro['name']"
   ]
  },
  {
   "cell_type": "code",
   "execution_count": null,
   "metadata": {},
   "outputs": [],
   "source": [
    "taro['age']"
   ]
  },
  {
   "cell_type": "markdown",
   "metadata": {},
   "source": [
    "### 変数\n",
    "これまで紹介したデータは変数に格納することができる。\n",
    "\n",
    "変数名に使える文字\n",
    "* アルファベット（A-Za-z）\n",
    "* アンダースコア（_）\n",
    "* 数字（0-9）\n",
    "* 先頭1文字目に数字は使えない"
   ]
  },
  {
   "cell_type": "code",
   "execution_count": null,
   "metadata": {},
   "outputs": [],
   "source": [
    "# 日本語の変数名も一応使えるが、使わないほうがいいでしょう。\n",
    "日本語変数 = 100"
   ]
  },
  {
   "cell_type": "code",
   "execution_count": null,
   "metadata": {},
   "outputs": [],
   "source": [
    "a = 100"
   ]
  },
  {
   "cell_type": "code",
   "execution_count": null,
   "metadata": {},
   "outputs": [],
   "source": [
    "a"
   ]
  },
  {
   "cell_type": "code",
   "execution_count": null,
   "metadata": {},
   "outputs": [],
   "source": [
    "hello = 'Hello, World'"
   ]
  },
  {
   "cell_type": "code",
   "execution_count": null,
   "metadata": {},
   "outputs": [],
   "source": [
    "# 変数同士の演算結果を別の変数に代入\n",
    "height = 12\n",
    "width = 3\n",
    "area = height * width"
   ]
  },
  {
   "cell_type": "code",
   "execution_count": null,
   "metadata": {},
   "outputs": [],
   "source": [
    "area"
   ]
  },
  {
   "cell_type": "markdown",
   "metadata": {},
   "source": [
    "#### 変数の命名規則(PEP8)\n",
    "PEP8: Pythonの標準的なコーディング規約。(https://pep8-ja.readthedocs.io/ja/latest/)\n",
    "\n",
    "変数名には小文字のみを使い、単語の区切りにアンダースコアを使う。（snake case）"
   ]
  },
  {
   "cell_type": "code",
   "execution_count": null,
   "metadata": {},
   "outputs": [],
   "source": [
    "file_name = 'customer.csv'"
   ]
  },
  {
   "cell_type": "markdown",
   "metadata": {},
   "source": [
    "定数には大文字のみを使い、単語の区切りにアンダースコアを使う。\n",
    "\n",
    "ただ、Pythonには文法的に再代入を禁止する定数は存在しない。慣習的に大文字＋アンダースコアの変数は固定値を表現していることが多い。"
   ]
  },
  {
   "cell_type": "code",
   "execution_count": null,
   "metadata": {},
   "outputs": [],
   "source": [
    "MAX_BUFFER_SIZE = 1024"
   ]
  },
  {
   "cell_type": "markdown",
   "metadata": {},
   "source": [
    "関数やクラス内部のみで使う変数には、先頭にアンダースコアを使う。"
   ]
  },
  {
   "cell_type": "code",
   "execution_count": null,
   "metadata": {},
   "outputs": [],
   "source": [
    "class Player:\n",
    "    _score = 0\n",
    "    def __init__(self):\n",
    "        pass\n",
    "    def play(self):\n",
    "        self._score = self._score + 1\n",
    "    def score(self):\n",
    "        return self._score\n",
    "\n",
    "p1 = Player()\n",
    "p1.play()\n",
    "p1.score()"
   ]
  },
  {
   "cell_type": "markdown",
   "metadata": {},
   "source": [
    "#### 予約語\n",
    "以下のリストにある名前は変数名に使えない。"
   ]
  },
  {
   "cell_type": "code",
   "execution_count": null,
   "metadata": {},
   "outputs": [],
   "source": [
    "import keyword\n",
    "keyword.kwlist"
   ]
  },
  {
   "cell_type": "markdown",
   "metadata": {},
   "source": [
    "## 制御構造\n",
    "分岐と繰り返しについて"
   ]
  },
  {
   "cell_type": "markdown",
   "metadata": {},
   "source": [
    "### 条件式\n",
    "式を実行した結果がTrueかFalseになる文。\n",
    "等号・不等号（<,=,>）やリストに含まれるか(in)など。"
   ]
  },
  {
   "cell_type": "code",
   "execution_count": null,
   "metadata": {},
   "outputs": [],
   "source": [
    "5 > 3"
   ]
  },
  {
   "cell_type": "code",
   "execution_count": null,
   "metadata": {},
   "outputs": [],
   "source": [
    "not 5 > 3"
   ]
  },
  {
   "cell_type": "code",
   "execution_count": null,
   "metadata": {},
   "outputs": [],
   "source": [
    "'Hello' == 'World'"
   ]
  },
  {
   "cell_type": "code",
   "execution_count": null,
   "metadata": {},
   "outputs": [],
   "source": [
    "'Hello' != 'World'"
   ]
  },
  {
   "cell_type": "code",
   "execution_count": null,
   "metadata": {},
   "outputs": [],
   "source": [
    "user_list = ['Taro', 'Jiro', 'Hanako']\n",
    "'Taro' in user_list"
   ]
  },
  {
   "cell_type": "code",
   "execution_count": null,
   "metadata": {},
   "outputs": [],
   "source": [
    "user_list = ['Taro', 'Jiro', 'Hanako']\n",
    "'Taro' not in user_list"
   ]
  },
  {
   "cell_type": "code",
   "execution_count": null,
   "metadata": {},
   "outputs": [],
   "source": [
    "5 > 3 and 'Hello' == 'World'"
   ]
  },
  {
   "cell_type": "code",
   "execution_count": null,
   "metadata": {},
   "outputs": [],
   "source": [
    "5 > 3 and 'Hello' != 'World'"
   ]
  },
  {
   "cell_type": "code",
   "execution_count": null,
   "metadata": {},
   "outputs": [],
   "source": [
    "5 > 3 or 'Hello' == 'World'"
   ]
  },
  {
   "cell_type": "markdown",
   "metadata": {},
   "source": [
    "### 分岐\n",
    "1. if文\n",
    "\n",
    "```Python\n",
    "if 条件式１:\n",
    "    文１\n",
    "    文２\n",
    "elif 条件式２:\n",
    "    文３\n",
    "    文４\n",
    "else:\n",
    "    文５\n",
    "```\n",
    "\n",
    "条件式１が真のときは文１、文２が実行される。\n",
    "\n",
    "条件式２が真の場合は文３、文４が実行される。\n",
    "\n",
    "どちらも偽の場合は文５が実行される。\n",
    "\n",
    "switchやcaseみたいな構文はないので、elifを重ねて使う。"
   ]
  },
  {
   "cell_type": "code",
   "execution_count": null,
   "metadata": {},
   "outputs": [],
   "source": [
    "x = 5\n",
    "if x < 0:\n",
    "    print('負の数です')\n",
    "elif x == 0:\n",
    "    print('ゼロです')\n",
    "elif x == 1:\n",
    "    print('1です')\n",
    "elif x == 2:\n",
    "    print('2です')\n",
    "else:\n",
    "    print('たくさん')"
   ]
  },
  {
   "cell_type": "markdown",
   "metadata": {},
   "source": [
    "2. 三項演算子\n",
    "\n",
    "```Python\n",
    "(条件式が真のときの値) if (条件式) else (条件式が偽のときの値)\n",
    "```\n",
    "\n",
    "単純な条件の場合はこちらを使うこともある。"
   ]
  },
  {
   "cell_type": "code",
   "execution_count": null,
   "metadata": {},
   "outputs": [],
   "source": [
    "user_id = 1\n",
    "'Hello, {}'.format('Administrator' if user_id == 0 else 'User')"
   ]
  },
  {
   "cell_type": "markdown",
   "metadata": {},
   "source": [
    "### 繰り返し\n",
    "for文やwhileを使う。"
   ]
  },
  {
   "cell_type": "markdown",
   "metadata": {},
   "source": [
    "#### for文"
   ]
  },
  {
   "cell_type": "code",
   "execution_count": null,
   "metadata": {},
   "outputs": [],
   "source": [
    "words = ['One', 'Two', 'Three']\n",
    "for w in words:\n",
    "    print(w, len(w))"
   ]
  },
  {
   "cell_type": "code",
   "execution_count": null,
   "metadata": {},
   "outputs": [],
   "source": [
    "for i in range(10):\n",
    "    print(i * 2)"
   ]
  },
  {
   "cell_type": "code",
   "execution_count": null,
   "metadata": {},
   "outputs": [],
   "source": [
    "for i in range(10):\n",
    "    for j in range(5):\n",
    "        print(i * j)"
   ]
  },
  {
   "cell_type": "markdown",
   "metadata": {},
   "source": [
    "リストのループで、インデックスとリストの要素を同時に使いたい場合："
   ]
  },
  {
   "cell_type": "code",
   "execution_count": null,
   "metadata": {},
   "outputs": [],
   "source": [
    "words = ['One', 'Two', 'Three']\n",
    "for i, w in enumerate(words):\n",
    "    print(i, w, len(w))"
   ]
  },
  {
   "cell_type": "markdown",
   "metadata": {},
   "source": [
    "ループカウンターを使わない場合は、「_」を使う。"
   ]
  },
  {
   "cell_type": "code",
   "execution_count": null,
   "metadata": {},
   "outputs": [],
   "source": [
    "for _ in range(10):\n",
    "    print('Hello')"
   ]
  },
  {
   "cell_type": "markdown",
   "metadata": {},
   "source": [
    "### while\n",
    "```Python\n",
    "while (条件が真なら以下を実行する):\n",
    "    文１\n",
    "    文２\n",
    "    ・・・\n",
    "```"
   ]
  },
  {
   "cell_type": "code",
   "execution_count": null,
   "metadata": {},
   "outputs": [],
   "source": [
    "a, b = 30, 2\n",
    "while a > b:\n",
    "    a, b = a - 1, b + 1\n",
    "    print(a, b)"
   ]
  },
  {
   "cell_type": "markdown",
   "metadata": {},
   "source": [
    "## 例題：FizzBuzz\n",
    "ここまでの内容が理解できたらFizzBuzz問題が解けるようになっています。\n",
    "復習としてチャレンジしてみましょう。\n",
    "\n",
    "要件：\n",
    "\n",
    "1から100までの数字を順番に表示する。\n",
    "ただし、3の倍数のときは「Fizz」、5の倍数のときは「Buzz」、3と5の公倍数のときは「FizzBuzz」と表示する。\n",
    "\n",
    "解答のヒント：\n",
    "1. 1から100までループして、その数を出力する\n",
    "2. 1から100までループして、その数を3で割ったときの余りが0か、5で割ったときの余りが0か、15で割ったときの余りが0かを判定して、その結果を出力する\n",
    "3. 1から100までループして、その数が3の倍数なら'Fizz'、5の倍数なら'Buzz'、15の倍数なら'FizzBuzz'、それ以外ならその数字を出力する"
   ]
  },
  {
   "cell_type": "code",
   "execution_count": null,
   "metadata": {},
   "outputs": [],
   "source": [
    "# ヒント1"
   ]
  },
  {
   "cell_type": "code",
   "execution_count": null,
   "metadata": {},
   "outputs": [],
   "source": [
    "# ヒント2"
   ]
  },
  {
   "cell_type": "code",
   "execution_count": null,
   "metadata": {},
   "outputs": [],
   "source": [
    "# ヒント3"
   ]
  },
  {
   "cell_type": "markdown",
   "metadata": {},
   "source": [
    "## 関数の定義\n",
    "共通した一連の処理をまとめて関数として呼び出す。\n",
    "下の例のように関数についての解説文を書いておくと、あとから見返したときやその関数を再利用する際に理解が早いので、\n",
    "余裕があったら書いておくと良い。\n",
    "\n",
    "```Python\n",
    "def function_name(arg1, arg2, arg3='a'):\n",
    "    \"\"\"\n",
    "    この関数はこれこれこういうことを行う\n",
    "    \n",
    "    Parameters\n",
    "    ----------\n",
    "    arg1 : Int\n",
    "        これこれこういう値\n",
    "    arg2 : String\n",
    "        これこれこういう値\n",
    "    arg3 : String or None, default 'a'\n",
    "        これこれこういう値（デフォルト値がある場合）\n",
    "    \n",
    "    Returns\n",
    "    ----------\n",
    "    value : Boolean\n",
    "        これこれこういう意味の値    \n",
    "    \"\"\"\n",
    "    文１\n",
    "    文２\n",
    "    ・・・\n",
    "    return 処理結果\n",
    "```"
   ]
  },
  {
   "cell_type": "code",
   "execution_count": null,
   "metadata": {},
   "outputs": [],
   "source": [
    "def fizzbuzz(i):\n",
    "    '''\n",
    "    引数に与えられた値のFizzBuzzを返す\n",
    "    \n",
    "    Parameter\n",
    "    ----------\n",
    "    i : Int\n",
    "        対象の整数。自然数を想定。\n",
    "    \n",
    "    Returns\n",
    "    ----------\n",
    "    fizzbuzz : String\n",
    "        引数iが3の倍数なら'Fizz',5の倍数なら'Buzz', \n",
    "        15の倍数なら'FizzBuzz',それ以外なら引数をそのまま返す。\n",
    "    '''\n",
    "    if (i % 5 == 0 and i % 3 == 0):\n",
    "        return 'FizzBuzz'\n",
    "    if (i % 3 == 0):\n",
    "        return 'Fizz'\n",
    "    if (i % 5 == 0):\n",
    "        return 'Buzz'\n",
    "    return str(i)"
   ]
  },
  {
   "cell_type": "markdown",
   "metadata": {},
   "source": [
    "関数の上にカーソルをおいてShift+Tabで解説文がポップアップする"
   ]
  },
  {
   "cell_type": "code",
   "execution_count": null,
   "metadata": {},
   "outputs": [],
   "source": [
    "# fizzbuzz()の上にカーソルを合わせてShift+Tab\n",
    "fizzbuzz(14)"
   ]
  },
  {
   "cell_type": "code",
   "execution_count": null,
   "metadata": {},
   "outputs": [],
   "source": [
    "import pandas as pd"
   ]
  },
  {
   "cell_type": "code",
   "execution_count": null,
   "metadata": {},
   "outputs": [],
   "source": [
    "# read_csv()の上にカーソルを合わせてShift+Tab\n",
    "pd.read_csv()"
   ]
  },
  {
   "cell_type": "markdown",
   "metadata": {},
   "source": [
    "## ファイル読み書き\n",
    "### テキストファイルを読み込む\n",
    "以下の構文をイディオムとして使うと良い。変数`buf`にhimitu.txtの内容がまるっとロードされる。\n",
    "```Python\n",
    "filename = r'C:\\Users\\tokumaru\\Documents\\himitu\\himitu.txt'\n",
    "with open(filename, mode='r', encoding='cp932') as f:\n",
    "    buf = f.read()\n",
    "```\n",
    "\n",
    "１行ずつ読み込んで何らかの処理を行いたい場合は、ファイルオブジェクト(f)をfor文で回すと良い。\n",
    "```Python\n",
    "filename = r'C:\\Users\\tokumaru\\Documents\\himitu\\himitu.txt'\n",
    "with open(filename, mode='r', encoding='cp932') as f:\n",
    "    for line in f:\n",
    "        do_some_awesome_thing(line)\n",
    "```\n",
    "\n",
    "CSVのようなテーブルデータを読むときは、pandasを使うのが一番楽。"
   ]
  },
  {
   "cell_type": "markdown",
   "metadata": {},
   "source": [
    "### テキストファイルに書き出す\n",
    "書き出すときも`with open()...`の構文が使える。`mode='w'`で上書き。\n",
    "\n",
    "```Python\n",
    "write_str = '寿限無寿限無後光の擦り切れ...'\n",
    "filename = r'C:\\Users\\tokumaru\\Documents\\himitu\\himitu.txt'\n",
    "with open(filename, mode='w', encoding='cp932') as f:\n",
    "    print(write_str)\n",
    "```\n",
    "\n",
    "よく使う書き込みモード\n",
    "* 上書き（存在しない場合は新規作成）: 'w'\n",
    "* 新規作成専用（存在するときはエラー）:'x'\n",
    "* 末尾に追記（存在しない場合は新規作成）: 'a'\n"
   ]
  },
  {
   "cell_type": "markdown",
   "metadata": {},
   "source": [
    "### エクセルファイルを読み込む\n",
    "エクセルを読み込みたいと思うときは、テーブルデータとして読み込むことがほとんどでしょう。\n",
    "これもPandasを使ったほうが扱いやすいと思います。\n",
    "\n",
    "どうしても、というときは、OpenPyXLを使います。\n",
    "```sh\n",
    "pip install openpyxl\n",
    "```\n"
   ]
  },
  {
   "cell_type": "markdown",
   "metadata": {},
   "source": [
    "### エクセルファイルに書き出す\n"
   ]
  },
  {
   "cell_type": "markdown",
   "metadata": {},
   "source": [
    "## データベース読み書き"
   ]
  },
  {
   "cell_type": "markdown",
   "metadata": {},
   "source": [
    "## 既存ライブラリの利用\n",
    "\n",
    "\n",
    "ライブラリには標準でインストールされているライブラリと、世界中の開発者たちが開発したライブラリがあります。\n",
    "\n",
    "\n",
    "### ライブラリの使い方\n",
    "\n",
    "#### 標準ライブラリ\n",
    "\n",
    "ソースコードの冒頭にて`import`します。\n",
    "```Python\n",
    "import os\n",
    "import glob\n",
    "import shutils\n",
    "```\n",
    "\n",
    "#### 標準以外のライブラリ\n",
    "\n",
    "多くの場合、コマンドプロンプト（Powershellプロンプト・ターミナル）上にて`pip`コマンドを入力することでインストールします。\n",
    "```sh\n",
    "pip install pandas\n",
    "```\n",
    "そのあと、利用するプログラムのソースコードの冒頭にて`import`します。\n",
    "```Python\n",
    "import numpy as np\n",
    "import pandas as pd\n",
    "```\n",
    "\n",
    "Jupyter Notebookの場合は、\n",
    "```Python\n",
    "!pip install pandas\n",
    "import pandas as pd\n",
    "```\n",
    "と、インストールとインポートを同時に実行することができます。\n",
    "\n",
    "### よく使う標準ライブラリ"
   ]
  },
  {
   "cell_type": "markdown",
   "metadata": {},
   "source": [
    "1. システム操作\n",
    "#### os\n",
    "PytonからOSの機能を利用する。ファイル名、環境変数、ディレクトリ操作など機能は多彩だが、一般的な用途においては、ファイル名の操作とディレクトリの操作を覚えておけば支障ない。"
   ]
  },
  {
   "cell_type": "code",
   "execution_count": null,
   "metadata": {},
   "outputs": [],
   "source": [
    "import os\n",
    "\n",
    "# フォルダ・ファイル名を作成する。OSによってフォルダの区切り文字が異なったりするのを吸収してくれる。\n",
    "ROOTDIR = os.getcwd() # 現在のワーキングディレクトリ\n",
    "project_dir = os.path.join(ROOTDIR, '01_Project')\n",
    "filename = os.path.join(project_dir, 'test.py')"
   ]
  },
  {
   "cell_type": "code",
   "execution_count": null,
   "metadata": {},
   "outputs": [],
   "source": [
    "ROOTDIR"
   ]
  },
  {
   "cell_type": "code",
   "execution_count": null,
   "metadata": {},
   "outputs": [],
   "source": [
    "project_dir"
   ]
  },
  {
   "cell_type": "code",
   "execution_count": null,
   "metadata": {},
   "outputs": [],
   "source": [
    "filename"
   ]
  },
  {
   "cell_type": "code",
   "execution_count": null,
   "metadata": {},
   "outputs": [],
   "source": [
    "# フォルダを移動する\n",
    "os.chdir(project_dir)"
   ]
  },
  {
   "cell_type": "code",
   "execution_count": null,
   "metadata": {},
   "outputs": [],
   "source": [
    "# filenameから、ディレクトリを除いたファイル名を取り出す\n",
    "os.path.basename(filename)"
   ]
  },
  {
   "cell_type": "code",
   "execution_count": null,
   "metadata": {},
   "outputs": [],
   "source": [
    "# filenameから、ディレクトリ名を取り出す\n",
    "os.path.dirname(filename)"
   ]
  },
  {
   "cell_type": "markdown",
   "metadata": {},
   "source": [
    "#### glob\n",
    "ワイルドカードでファイルを検索した結果をリストとして返す。"
   ]
  },
  {
   "cell_type": "code",
   "execution_count": null,
   "metadata": {},
   "outputs": [],
   "source": [
    "import glob\n",
    "# 現在のワーキングディレクトリで、2020年08月に作成されたCSVファイルのリスト\n",
    "files = glob.glob('202008??_*.csv')"
   ]
  },
  {
   "cell_type": "markdown",
   "metadata": {},
   "source": [
    "2. 正規表現\n",
    "#### re\n",
    "正規表現による検索。"
   ]
  },
  {
   "cell_type": "code",
   "execution_count": null,
   "metadata": {},
   "outputs": [],
   "source": [
    "import re\n",
    "\n"
   ]
  },
  {
   "cell_type": "markdown",
   "metadata": {},
   "source": [
    "### 標準じゃないけどよく使うライブラリ"
   ]
  },
  {
   "cell_type": "markdown",
   "metadata": {},
   "source": [
    "## Pandas\n",
    "\n",
    "### データを読み込む\n",
    "#### CSV\n",
    "#### エクセルファイル\n",
    "### 抽出する\n",
    "### 集計する\n",
    "### ファイルに出力する\n",
    "#### CSV\n",
    "#### エクセルファイル"
   ]
  },
  {
   "cell_type": "markdown",
   "metadata": {},
   "source": [
    "## 言語の仕様や変数の内容（型・値など）を調査する方法"
   ]
  },
  {
   "cell_type": "markdown",
   "metadata": {},
   "source": [
    "## 一歩進んだ記法\n",
    "関数型プログラミングの要素を取り込んだ書き方や、より簡潔な書き方を紹介する。\n",
    "Pythonプログラミングに慣れてきて、より効率的な書き方を知りたくなったときに参照して頂きたい。"
   ]
  },
  {
   "cell_type": "markdown",
   "metadata": {},
   "source": [
    "### 内包表記\n",
    "リストなどを数学的な定義のように表記できる。\n",
    "\n",
    "だいたいの場合for文より処理が速いので、積極的に使っていくと良い。\n",
    "\n",
    "たとえば、0以上100未満の整数$x$を2倍した整数の集合\n",
    "$$\n",
    "    S = \\{2 \\cdot x | x \\in Z, 0 \\leqq x < 100 \\}\n",
    "$$\n",
    "を定義する場合、for文を使うなら以下のようになる。"
   ]
  },
  {
   "cell_type": "code",
   "execution_count": null,
   "metadata": {},
   "outputs": [],
   "source": [
    "even_list = []\n",
    "for x in range(100):\n",
    "    even_list.append(x * 2)\n",
    "even_list"
   ]
  },
  {
   "cell_type": "markdown",
   "metadata": {},
   "source": [
    "内包表記を利用すると次のようになる。"
   ]
  },
  {
   "cell_type": "code",
   "execution_count": null,
   "metadata": {},
   "outputs": [],
   "source": [
    "even_list = [x * 2 for x in range(100)]\n",
    "even_list"
   ]
  },
  {
   "cell_type": "markdown",
   "metadata": {},
   "source": [
    "内包表記の基本的な構文は以下の通り。\n",
    "```Python\n",
    "[ 式 for カウンター変数 in 生成元のリスト（など）  if 条件式 ]\n",
    "```\n",
    "\n",
    "* 式はカウンター変数に対して処理したい式\n",
    "* カウンター変数は生成元リストの各要素\n",
    "* 生成元のリスト（など）には、リストだけでなく、rangeオブジェクトやmapオブジェクトなどのiterable objectが利用可能\n",
    "    * 最初のうちは、range()とリストが使える、と覚えておけばだいたいOK\n",
    "\n",
    "`if`以下は元リストから条件付けて絞り込みたい場合のみ使う。条件はカウンター変数を用いて記述する。\n",
    "\n",
    "次のような手順で作成、ステップごとに実行して出力を確認すると間違えにくい。 "
   ]
  },
  {
   "cell_type": "markdown",
   "metadata": {},
   "source": [
    "1. 元リストをそのまま返す"
   ]
  },
  {
   "cell_type": "code",
   "execution_count": null,
   "metadata": {},
   "outputs": [],
   "source": [
    "[i for i in range(10)]"
   ]
  },
  {
   "cell_type": "markdown",
   "metadata": {},
   "source": [
    "2. 生成元リストから抽出した条件があれば追加する。"
   ]
  },
  {
   "cell_type": "code",
   "execution_count": null,
   "metadata": {},
   "outputs": [],
   "source": [
    "[i for i in range(10) if i % 2 == 0]"
   ]
  },
  {
   "cell_type": "markdown",
   "metadata": {},
   "source": [
    "3. リストの各要素に対して必要な処理を追加する。"
   ]
  },
  {
   "cell_type": "code",
   "execution_count": null,
   "metadata": {},
   "outputs": [],
   "source": [
    "[(i * 5 - 1) ** 3 for i in range(10) if i % 2 == 0]"
   ]
  },
  {
   "cell_type": "markdown",
   "metadata": {},
   "source": [
    "#### リストの要素とそのインデックスをまとめて処理したい場合\n",
    "```Python\n",
    "enumerate([リスト])\n",
    "```\n",
    "を使うと良い。"
   ]
  },
  {
   "cell_type": "code",
   "execution_count": null,
   "metadata": {},
   "outputs": [],
   "source": [
    "[f'{i} {v}' for i,v  in enumerate(['Aleph', 'Beth', 'Gimel', 'Daleth'])]"
   ]
  },
  {
   "cell_type": "markdown",
   "metadata": {},
   "source": [
    "### 関数型プログラミングの要素を利用した記法\n",
    "Pythonでは、関数を引数として取り、関数を返す関数を利用できる。このような関数を「高階関数」という。\n",
    "\n",
    "全体的な構造は同じだが適用する関数が異なる処理を共通化できる。\n",
    "\n",
    "代表的なのは`map()`, `filter()`, `reduce()`"
   ]
  },
  {
   "cell_type": "markdown",
   "metadata": {},
   "source": [
    "#### map\n",
    "```Python\n",
    "map(func, iterable)\n",
    "```\n",
    "リストの各要素に対して`func`で指定した関数を適用したマップオブジェクトを返す。\n",
    "\n",
    "※返ってくるのはリストではなくマップオブジェクト。リストがほしいとき（がほとんどだが）はlist()関数をさらにかぶせる必要がある。"
   ]
  },
  {
   "cell_type": "markdown",
   "metadata": {},
   "source": [
    "文字のリスト`['1', '2', '3', '4', '5', '6']`の各要素に対してint()関数（文字列を数値に変換する関数）を適用する。"
   ]
  },
  {
   "cell_type": "code",
   "execution_count": null,
   "metadata": {},
   "outputs": [],
   "source": [
    "map(int, ['1', '2', '3', '4', '5', '6'])"
   ]
  },
  {
   "cell_type": "code",
   "execution_count": null,
   "metadata": {},
   "outputs": [],
   "source": [
    "list(map(int, ['1', '2', '3', '4', '5', '6']))"
   ]
  },
  {
   "cell_type": "markdown",
   "metadata": {},
   "source": [
    "#### filter\n",
    "```Python\n",
    "filter(func, iterable)\n",
    "```\n",
    "リストから特定の条件を満たす要素を抽出する。\n",
    "\n",
    "引数として、リストなどのiterableオブジェクトと、条件を判定する関数（iterableの要素の1つを取り、判定の結果（True-False）を返す）を取る。\n",
    "\n",
    "※これも返ってくるのはマップオブジェクト。"
   ]
  },
  {
   "cell_type": "code",
   "execution_count": 20,
   "metadata": {},
   "outputs": [
    {
     "data": {
      "text/plain": [
       "[2, 4, 6]"
      ]
     },
     "execution_count": 20,
     "metadata": {},
     "output_type": "execute_result"
    }
   ],
   "source": [
    "def is_even(x):\n",
    "    return x % 2 == 0\n",
    "m = filter(is_even, [1,2,3,4,5,6])\n",
    "list(m)"
   ]
  },
  {
   "cell_type": "markdown",
   "metadata": {},
   "source": [
    "#### reduce\n",
    "```Python\n",
    "from functools import reduce\n",
    "reduce(func, iterable, initializer)\n",
    "```\n",
    "リストに何かしらの演算を施して1つの値を算出する関数。畳み込み（folding, convolution）とも呼ばれる。\n",
    "\n",
    "initializer（初期値）は省略可。省略された場合は、リストの最初の要素が初期値になる。"
   ]
  },
  {
   "cell_type": "code",
   "execution_count": 32,
   "metadata": {},
   "outputs": [],
   "source": [
    "from functools import reduce\n",
    "from operator import add # 足し算\n",
    "from operator import sub # 引き算\n",
    "from operator import mul # 掛け算"
   ]
  },
  {
   "cell_type": "code",
   "execution_count": 27,
   "metadata": {},
   "outputs": [
    {
     "data": {
      "text/plain": [
       "32"
      ]
     },
     "execution_count": 27,
     "metadata": {},
     "output_type": "execute_result"
    }
   ],
   "source": [
    "reduce(add, [20, 3, 4, 5]) # -> 20 + 3 + 4 + 5"
   ]
  },
  {
   "cell_type": "code",
   "execution_count": 29,
   "metadata": {},
   "outputs": [
    {
     "data": {
      "text/plain": [
       "32"
      ]
     },
     "execution_count": 29,
     "metadata": {},
     "output_type": "execute_result"
    }
   ],
   "source": [
    "# 単に集計したいだけならsumで十分。\n",
    "sum([20, 3, 4, 5])"
   ]
  },
  {
   "cell_type": "code",
   "execution_count": 26,
   "metadata": {},
   "outputs": [
    {
     "data": {
      "text/plain": [
       "8"
      ]
     },
     "execution_count": 26,
     "metadata": {},
     "output_type": "execute_result"
    }
   ],
   "source": [
    "reduce(sub, [20, 3, 4, 5]) # -> 20 - 3 - 4 - 5"
   ]
  },
  {
   "cell_type": "code",
   "execution_count": 31,
   "metadata": {},
   "outputs": [
    {
     "data": {
      "text/plain": [
       "85"
      ]
     },
     "execution_count": 31,
     "metadata": {},
     "output_type": "execute_result"
    }
   ],
   "source": [
    "reduce(sub, [1, 2, 3, 4, 5], 100) # -> 100 - 1 - 2 - 3 - 4 - 5"
   ]
  },
  {
   "cell_type": "code",
   "execution_count": 28,
   "metadata": {},
   "outputs": [
    {
     "data": {
      "text/plain": [
       "1200"
      ]
     },
     "execution_count": 28,
     "metadata": {},
     "output_type": "execute_result"
    }
   ],
   "source": [
    "reduce(mul, [20, 3, 4, 5]) # -> 20 * 3 * 4 * 5"
   ]
  },
  {
   "cell_type": "markdown",
   "metadata": {},
   "source": [
    "#### lambda（無名関数）"
   ]
  },
  {
   "cell_type": "markdown",
   "metadata": {},
   "source": [
    "### 関数の早期リターン\n",
    "関数を書いているとき、if文のネストが深くなって読みづらくなる場合がよくあります。\n",
    "\n",
    "その際は、返却値が確定した時点でさっさとリターンしてしまうのが良いです。\n",
    "\n",
    "おおよその目安として、ネストが3段以上になったら実装を考え直しましょう。"
   ]
  },
  {
   "cell_type": "code",
   "execution_count": null,
   "metadata": {},
   "outputs": [],
   "source": [
    "def is_prime_number(i):\n",
    "    if "
   ]
  }
 ],
 "metadata": {
  "kernelspec": {
   "display_name": "Python 3",
   "language": "python",
   "name": "python3"
  },
  "language_info": {
   "codemirror_mode": {
    "name": "ipython",
    "version": 3
   },
   "file_extension": ".py",
   "mimetype": "text/x-python",
   "name": "python",
   "nbconvert_exporter": "python",
   "pygments_lexer": "ipython3",
   "version": "3.8.5"
  }
 },
 "nbformat": 4,
 "nbformat_minor": 4
}
